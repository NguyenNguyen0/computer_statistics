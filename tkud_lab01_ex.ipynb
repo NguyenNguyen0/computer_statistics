{
 "cells": [
  {
   "cell_type": "markdown",
   "metadata": {
    "id": "Cj3g7_Xjv0cQ"
   },
   "source": [
    "# Lab 01 - Bài tập"
   ]
  },
  {
   "cell_type": "markdown",
   "metadata": {
    "id": "uHya_O8Nv9Bg"
   },
   "source": [
    "## PYTHON\n"
   ]
  },
  {
   "cell_type": "markdown",
   "metadata": {},
   "source": [
    "1. Viết chương trình nhập vào số nguyên n (n>0). In ra các số nguyên tố từ 1..n\n"
   ]
  },
  {
   "cell_type": "code",
   "execution_count": 2,
   "metadata": {
    "id": "AnQZ06Hxxwlo"
   },
   "outputs": [
    {
     "name": "stdout",
     "output_type": "stream",
     "text": [
      "1 2 3 4 5 "
     ]
    }
   ],
   "source": [
    "n = input(\"Enter a number: \")\n",
    "for i in range(1, int(n)+1):\n",
    "    print(i, end=\" \")"
   ]
  },
  {
   "cell_type": "markdown",
   "metadata": {
    "id": "XpmGHRLRxx34"
   },
   "source": [
    "2. Viết chương trình nhập vào số nguyên n có 3 chữ số. Tính tổng các chữ số của n"
   ]
  },
  {
   "cell_type": "code",
   "execution_count": 3,
   "metadata": {
    "id": "AXOFJ9Iwvtvh"
   },
   "outputs": [
    {
     "name": "stdout",
     "output_type": "stream",
     "text": [
      "13\n"
     ]
    }
   ],
   "source": [
    "n = input(\"\\nEnter a number: \")\n",
    "print(sum(int(i) for i in str(n)))"
   ]
  },
  {
   "cell_type": "markdown",
   "metadata": {
    "id": "oba6gvmwyFrZ"
   },
   "source": [
    "3. Viết chương trình nhập vào một dãy các số nguyên được cách nhau bởi khoảng trắng (VD: 32 8 4 6 9...) lưu vào python ở dạng mảng. Thực hiện\n",
    "\n",
    "- Xuất mảng\n",
    "- Tính tổng các phần tử của mảng\n",
    "- Tìm số lớn nhất\n",
    "- Tìm số bé nhất\n",
    "- Sắp xếp mảng theo thứ tự giảm dần\n",
    "- In ra các số chẵn trong mảng"
   ]
  },
  {
   "cell_type": "code",
   "execution_count": 6,
   "metadata": {
    "id": "9XBwANmGyFyY"
   },
   "outputs": [
    {
     "name": "stdout",
     "output_type": "stream",
     "text": [
      "[12, 38, 92, 9, 8, 1]\n",
      "160\n",
      "92\n",
      "1\n",
      "[92, 38, 12, 9, 8, 1]\n",
      "[12, 38, 92, 8]\n"
     ]
    }
   ],
   "source": [
    "arr = input(\"\\nEnter a list of numbers: \").split()\n",
    "arr = [int(i) for i in arr]\n",
    "\n",
    "# xuất mảng\n",
    "print(arr)\n",
    "\n",
    "# tính tổng mảng\n",
    "print(sum(arr))\n",
    "\n",
    "# tìm giá trị lớn nhất\n",
    "print(max(arr))\n",
    "\n",
    "# tìm giá trị nhỏ nhất\n",
    "print(min(arr))\n",
    "\n",
    "# Sắp xếp mảng theo thứ tự giảm dần\n",
    "print(sorted(arr, reverse=True))\n",
    "\n",
    "# In ra các số chẵn trong mảng\n",
    "print([i for i in arr if i % 2 == 0])"
   ]
  },
  {
   "cell_type": "markdown",
   "metadata": {
    "id": "hgGOt_Cxyulx"
   },
   "source": [
    "4. Viết chương trình yêu cầu người dùng nhập họ tên. Hiển thị tên người dùng sau khi đã chuẩn hóa. Biết rằng tên đã chuẩn hóa là:\n",
    "- Ký tự đầu viết hoa\n",
    "- Không có khoảng trắng thừa\n",
    "- Không có ký tự đặc biệt"
   ]
  },
  {
   "cell_type": "code",
   "execution_count": 9,
   "metadata": {
    "id": "duR4BF8Dyu_w"
   },
   "outputs": [
    {
     "name": "stdout",
     "output_type": "stream",
     "text": [
      "Lmao Lmao Shas As\n"
     ]
    }
   ],
   "source": [
    "name = input(\"\\nEnter your name: \")\n",
    "\n",
    "name = \" \".join([c.strip().capitalize() if c.isalpha() else \"\" for c in name.split()])\n",
    "\n",
    "print(name)"
   ]
  },
  {
   "cell_type": "markdown",
   "metadata": {
    "id": "W5KucasA0NSA"
   },
   "source": [
    "5. Viết chương trình nhập vào một số nguyên dương (n>0). Cho biết n có phải là số đối xứng hay không? Biết số đối xứng là số viết xuôi hay viết ngược đều như nhau"
   ]
  },
  {
   "cell_type": "code",
   "execution_count": 12,
   "metadata": {
    "id": "FTH5V3je0YPg"
   },
   "outputs": [
    {
     "name": "stdout",
     "output_type": "stream",
     "text": [
      "This number is not a palindrome\n"
     ]
    }
   ],
   "source": [
    "num = input(\"\\nEnter a number: \")\n",
    "\n",
    "if str(num) == str(num)[::-1]:\n",
    "    print(\"This number is a palindrome\")\n",
    "else:\n",
    "    print(\"This number is not a palindrome\")"
   ]
  },
  {
   "cell_type": "markdown",
   "metadata": {},
   "source": [
    "6. Với số nguyên n nhất định, hãy viết chương trình hiển thị dictionary chứa các cặp (i, i*i) ; biết i có giá trị từ 1..n\n"
   ]
  },
  {
   "cell_type": "code",
   "execution_count": 13,
   "metadata": {},
   "outputs": [
    {
     "name": "stdout",
     "output_type": "stream",
     "text": [
      "{1: 1, 2: 4, 3: 9, 4: 16, 5: 25, 6: 36, 7: 49, 8: 64, 9: 81, 10: 100, 11: 121, 12: 144}\n"
     ]
    }
   ],
   "source": [
    "n = input(\"\\nEnter a number: \")\n",
    "print({i: i**2 for i in range(1, int(n)+1)})"
   ]
  },
  {
   "cell_type": "markdown",
   "metadata": {},
   "source": [
    "7. Viết chương trình tìm tất cả các số chia hết cho 7 nhưng không phải bội số của 5, nằm trong đoạn 2000 và 3200 (tính cả 2000 và 3200). Các số thu được sẽ được in thành chuỗi trên một dòng, cách nhau bằng dấu phẩy"
   ]
  },
  {
   "cell_type": "code",
   "execution_count": 9,
   "metadata": {},
   "outputs": [
    {
     "name": "stdout",
     "output_type": "stream",
     "text": [
      "2000,2002,2009,2016,2023,2037,2044,2051,2058,2072,2079,2086,2093,2107,2114,2121,2128,2142,2149,2156,2163,2177,2184,2191,2198,2212,2219,2226,2233,2247,2254,2261,2268,2282,2289,2296,2303,2317,2324,2331,2338,2352,2359,2366,2373,2387,2394,2401,2408,2422,2429,2436,2443,2457,2464,2471,2478,2492,2499,2506,2513,2527,2534,2541,2548,2562,2569,2576,2583,2597,2604,2611,2618,2632,2639,2646,2653,2667,2674,2681,2688,2702,2709,2716,2723,2737,2744,2751,2758,2772,2779,2786,2793,2807,2814,2821,2828,2842,2849,2856,2863,2877,2884,2891,2898,2912,2919,2926,2933,2947,2954,2961,2968,2982,2989,2996,3003,3017,3024,3031,3038,3052,3059,3066,3073,3087,3094,3101,3108,3122,3129,3136,3143,3157,3164,3171,3178,3192,3199,3200\n"
     ]
    }
   ],
   "source": [
    "nums = [2000]\n",
    "for i in range(2000, 3201):\n",
    "    if i % 7 == 0 and i % 5 != 0:\n",
    "        nums.append(i)\n",
    "nums.append(3200)\n",
    "\n",
    "nums = map(str, nums)\n",
    "print(\",\".join(nums))"
   ]
  },
  {
   "cell_type": "markdown",
   "metadata": {},
   "source": [
    "8. Viết chương trình chấp nhận một chuỗi số, phân tách bằng dấu phẩy từ giao diện điều khiển, tạo ra một List và một tuple chứa mọi số.\n",
    "\n",
    "    Ví dụ:\n",
    "\n",
    "    ```\n",
    "    Đầu vào được cung cấp là '34,67,55,33,12,98' thì đầu ra là:\n",
    "\n",
    "    [34, 67, 55, 33, 12, 98]\n",
    "    (34, 67, 55, 33, 12, 98)\n",
    "    ```\n"
   ]
  },
  {
   "cell_type": "code",
   "execution_count": 19,
   "metadata": {},
   "outputs": [
    {
     "name": "stdout",
     "output_type": "stream",
     "text": [
      "['34', '67', '55', '33', '12', '98']\n",
      "('34', '67', '55', '33', '12', '98')\n"
     ]
    }
   ],
   "source": [
    "nums = input(\"\\nEnter a list of numbers: \").split(',')\n",
    "\n",
    "print(nums)\n",
    "print(tuple(nums))"
   ]
  },
  {
   "cell_type": "markdown",
   "metadata": {},
   "source": [
    "9. Viết hàm nhận vào một danh sách các số nguyên. Hãy viết hàm trả về một danh sách gồm các số không trùng nhau trong danh sách ban đầu"
   ]
  },
  {
   "cell_type": "code",
   "execution_count": 8,
   "metadata": {},
   "outputs": [
    {
     "name": "stdout",
     "output_type": "stream",
     "text": [
      "[33, 34, 67, 98, 12, 23, 55]\n"
     ]
    }
   ],
   "source": [
    "nums = [34, 67, 55, 33, 12, 98, 12, 23, 12, 12, 12]\n",
    "\n",
    "def remove_duplicate(nums):\n",
    "    return list(set(nums))\n",
    "\n",
    "print(remove_duplicate(nums))"
   ]
  },
  {
   "cell_type": "markdown",
   "metadata": {},
   "source": [
    "10. Viết hàm có tham số đầu vào là một list L có các phần tử là chuỗi. Hãy tạo ra một dictionary D mã hóa, với mỗi một phần tử trong L được mã hóa thành một con số (theo thứ tự từ 0 tăng dần lên 1 đơn vị). Sau đó trả về list đã được mã hóa\n",
    "\n",
    "    Ví dụ:\n",
    "\n",
    "    ```\n",
    "    Cho L = [\"đen\",\"vàng\",\"xanh\",\"vàng\",\"xanh\",\"đỏ\",\"hồng\"]\n",
    "\n",
    "    Xây dựng dictionary mã hóa:\n",
    "    D = {'đen':0,'vàng':1,'xanh':2,'đỏ':3,'hồng':4}\n",
    "\n",
    "    Trả về List mã hóa:\n",
    "    L_mahoa = [0, 1, 2, 1, 2, 3, 4]\n",
    "    ```"
   ]
  },
  {
   "cell_type": "code",
   "execution_count": 5,
   "metadata": {},
   "outputs": [
    {
     "name": "stdout",
     "output_type": "stream",
     "text": [
      "[0, 1, 2, 1, 2, 3, 4]\n"
     ]
    }
   ],
   "source": [
    "words = [\"đen\", \"vàng\", \"xanh\", \"vàng\", \"xanh\", \"đỏ\", \"hồng\"]\n",
    "\n",
    "def encryption(words):\n",
    "    encryption_dict = {}\n",
    "    index = 0\n",
    "    for word in words:\n",
    "        if word not in encryption_dict:\n",
    "            encryption_dict[word] = index\n",
    "            index += 1\n",
    "\n",
    "    return list(map(lambda x: encryption_dict[x], words))\n",
    "\n",
    "print(encryption(words))"
   ]
  },
  {
   "cell_type": "markdown",
   "metadata": {},
   "source": [
    "---"
   ]
  }
 ],
 "metadata": {
  "colab": {
   "authorship_tag": "ABX9TyOelhBBO7DINQ7b3uUiVhbi",
   "provenance": []
  },
  "kernelspec": {
   "display_name": "Python 3",
   "name": "python3"
  },
  "language_info": {
   "codemirror_mode": {
    "name": "ipython",
    "version": 3
   },
   "file_extension": ".py",
   "mimetype": "text/x-python",
   "name": "python",
   "nbconvert_exporter": "python",
   "pygments_lexer": "ipython3",
   "version": "3.12.0"
  }
 },
 "nbformat": 4,
 "nbformat_minor": 0
}
