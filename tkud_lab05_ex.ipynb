{
 "cells": [
  {
   "cell_type": "markdown",
   "metadata": {
    "id": "hetF_D-MkzDt"
   },
   "source": [
    "# Lab 05 - Bài tập"
   ]
  },
  {
   "cell_type": "code",
   "execution_count": 1,
   "metadata": {
    "executionInfo": {
     "elapsed": 1777,
     "status": "ok",
     "timestamp": 1740904427982,
     "user": {
      "displayName": "Nguyên Nguyễn",
      "userId": "09365386186283814691"
     },
     "user_tz": -420
    },
    "id": "rP05AJ67_TVa"
   },
   "outputs": [],
   "source": [
    "import pandas as pd\n",
    "import numpy as np\n",
    "from scipy.stats import binom\n",
    "from scipy.stats import poisson\n",
    "from scipy.stats import norm\n",
    "from scipy.stats import t"
   ]
  },
  {
   "cell_type": "markdown",
   "metadata": {
    "id": "cd7N2iQe_TVa"
   },
   "source": [
    "**Bài 01:** Một bài thi trắc nghiệm gồm 10 câu hỏi, mỗi câu có 4 phương án trả lời trong đó chỉ có một phương án đúng. Bạn hãy:\n",
    "\n",
    "a. Một sinh viên không học bài làm bài bằng cách chọn ngẫu nhiên một phương án cho mỗi câu hỏi. Bạn hãy dùng hàm random để in ra số câu đúng của bạn sinh viên trong 10 lần kiểm tra.\n",
    "\n",
    "b. Giả sử mỗi câu đúng được 4 điểm, mỗi câu sai bị trừ 2 điểm. Tính xác suất để sinh viên này được 4 điểm\n",
    "\n",
    "c. Gọi X là số câu trả lời đúng. Tính E(X) và Var(X)"
   ]
  },
  {
   "cell_type": "code",
   "execution_count": 9,
   "metadata": {
    "colab": {
     "base_uri": "https://localhost:8080/"
    },
    "executionInfo": {
     "elapsed": 9,
     "status": "ok",
     "timestamp": 1740904517917,
     "user": {
      "displayName": "Nguyên Nguyễn",
      "userId": "09365386186283814691"
     },
     "user_tz": -420
    },
    "id": "HISLARHM_TVb",
    "outputId": "0b1112bf-49ec-423b-b2a9-f4d5824f632c"
   },
   "outputs": [
    {
     "data": {
      "text/plain": [
       "4"
      ]
     },
     "execution_count": 9,
     "metadata": {},
     "output_type": "execute_result"
    }
   ],
   "source": [
    "# a)\n",
    "n, p = 10, 0.25\n",
    "binom.rvs(n, p)"
   ]
  },
  {
   "cell_type": "code",
   "execution_count": 10,
   "metadata": {
    "colab": {
     "base_uri": "https://localhost:8080/"
    },
    "executionInfo": {
     "elapsed": 14,
     "status": "ok",
     "timestamp": 1740904806419,
     "user": {
      "displayName": "Nguyên Nguyễn",
      "userId": "09365386186283814691"
     },
     "user_tz": -420
    },
    "id": "HkQMaGMo_u_k",
    "outputId": "d752d38c-4fc8-4a13-88ff-f5d09185914a"
   },
   "outputs": [
    {
     "data": {
      "text/plain": [
       "0.14599800109863273"
      ]
     },
     "execution_count": 10,
     "metadata": {},
     "output_type": "execute_result"
    }
   ],
   "source": [
    "# b)\n",
    "prob_4_point = binom.pmf(4, n, p)\n",
    "prob_4_point"
   ]
  },
  {
   "cell_type": "code",
   "execution_count": 11,
   "metadata": {
    "colab": {
     "base_uri": "https://localhost:8080/"
    },
    "executionInfo": {
     "elapsed": 29,
     "status": "ok",
     "timestamp": 1740904867504,
     "user": {
      "displayName": "Nguyên Nguyễn",
      "userId": "09365386186283814691"
     },
     "user_tz": -420
    },
    "id": "g4aw4rZYA-uT",
    "outputId": "96f67e6f-96ae-4591-824b-00d79f8568a5"
   },
   "outputs": [
    {
     "name": "stdout",
     "output_type": "stream",
     "text": [
      "E(X) = 2.5\n",
      "Var(X) = 1.875\n"
     ]
    }
   ],
   "source": [
    "# c)\n",
    "E_X = n * p\n",
    "Var_X = n * p * (1 - p)\n",
    "print(f'E(X) = {E_X}')\n",
    "print(f'Var(X) = {Var_X}')"
   ]
  },
  {
   "cell_type": "markdown",
   "metadata": {
    "id": "Qo48ZAvC_TVb"
   },
   "source": [
    "**Bài 02:** Một trung tâm bưu điện nhận được 3 cuộc gọi điện thoại mỗi phút. Tính xác suất để trung tâm nhận được 1 cuộc gọi, 2 cuộc gọi, 3 cuộc gọi trong vòng một phút biết số cuộc gọi trong một phút có phân phối Poisson."
   ]
  },
  {
   "cell_type": "code",
   "execution_count": 13,
   "metadata": {
    "colab": {
     "base_uri": "https://localhost:8080/"
    },
    "executionInfo": {
     "elapsed": 11,
     "status": "ok",
     "timestamp": 1740904978791,
     "user": {
      "displayName": "Nguyên Nguyễn",
      "userId": "09365386186283814691"
     },
     "user_tz": -420
    },
    "id": "9xYiHUxX_TVb",
    "outputId": "3f8cd5bb-9099-4c19-c7db-77521f58c6bb"
   },
   "outputs": [
    {
     "name": "stdout",
     "output_type": "stream",
     "text": [
      "1 call: 0.14936120510359185\n",
      "2 calls: 0.22404180765538775\n",
      "3 calls: 0.22404180765538775\n"
     ]
    }
   ],
   "source": [
    "lambda_ = 3\n",
    "\n",
    "prob_1_calls = poisson.pmf(1, lambda_)\n",
    "prob_2_calls = poisson.pmf(2, lambda_)\n",
    "prob_3_calls = poisson.pmf(3, lambda_)\n",
    "print(\"1 call: \" + str(prob_1_calls))\n",
    "print(\"2 calls: \" + str(prob_2_calls))\n",
    "print(\"3 calls: \" + str(prob_3_calls))"
   ]
  },
  {
   "cell_type": "markdown",
   "metadata": {
    "id": "t5bWcDhX_TVb"
   },
   "source": [
    "**Bài 03:** Trọng lượng (đơn vị gam) của một loại trái cây có phân phối chuẩn với µ = 500 (gam) gam và $σ^2 = 16 (gam^2)$. Trái cây thu hoạch được phân loại theo trọng lượng như sau:\n",
    "\n",
    "Loại 1: trên 505 gam\n",
    "\n",
    "Loại 2: từ 495 – 505 gam\n",
    "\n",
    "Loại 3: dười 495 gam\n",
    "\n",
    "a. Hãy tính tỷ lệ của mỗi loại.\n",
    "b. Bạn hãy mô phỏng lấy mẫu  20 trái cây trên. Bạn hãy vẽ histogram trọng lượng trái cây và tính giá trị trung bình và độ lệch chuẩn trái cây từ mẫu\n",
    "c. Bạn hãy mô phỏng lấy 100 trái cây trên. Bạn hãy vẽ histogram trọng lượng trái cây và tính giá trị trung bình và độ lệch chuẩn trái cây từ mẫu\n",
    "d. Từ hai cách lấy mẫu ở câu b, c bạn có nhận xét gì không?"
   ]
  },
  {
   "cell_type": "code",
   "execution_count": 14,
   "metadata": {
    "colab": {
     "base_uri": "https://localhost:8080/"
    },
    "executionInfo": {
     "elapsed": 10,
     "status": "ok",
     "timestamp": 1740905080565,
     "user": {
      "displayName": "Nguyên Nguyễn",
      "userId": "09365386186283814691"
     },
     "user_tz": -420
    },
    "id": "5YAiWYMW_TVb",
    "outputId": "d6546eae-8c24-4444-ef22-fb078c6ff9e5"
   },
   "outputs": [
    {
     "name": "stdout",
     "output_type": "stream",
     "text": [
      "Loại 1: 0.10564977366685535\n",
      "Loại 2: 0.7887004526662893\n",
      "Loại 3: 0.10564977366685535\n"
     ]
    }
   ],
   "source": [
    "# a)\n",
    "mean = 500\n",
    "std = np.sqrt(16)\n",
    "prob_1 = 1 - norm.cdf(505, mean, std)\n",
    "prob_2 = norm.cdf(505, mean, std) - norm.cdf(495, mean, std)\n",
    "prob_3 = norm.cdf(495, mean, std)\n",
    "\n",
    "print(\"Loại 1: \" + str(prob_1))\n",
    "print(\"Loại 2: \" + str(prob_2))\n",
    "print(\"Loại 3: \" + str(prob_3))"
   ]
  },
  {
   "cell_type": "code",
   "execution_count": 17,
   "metadata": {
    "colab": {
     "base_uri": "https://localhost:8080/",
     "height": 465
    },
    "executionInfo": {
     "elapsed": 1954,
     "status": "ok",
     "timestamp": 1740905180040,
     "user": {
      "displayName": "Nguyên Nguyễn",
      "userId": "09365386186283814691"
     },
     "user_tz": -420
    },
    "id": "_-Qf4DJ4B5iS",
    "outputId": "e026b3a8-1e60-4bcd-8463-39032335e642"
   },
   "outputs": [
    {
     "name": "stdout",
     "output_type": "stream",
     "text": [
      "Mean: 502.27800736961615\n",
      "Std: 3.4394768201835686\n"
     ]
    },
    {
     "data": {
      "image/png": "[encoded data removed]",
      "text/plain": [
       "<Figure size 640x480 with 1 Axes>"
      ]
     },
     "metadata": {},
     "output_type": "display_data"
    }
   ],
   "source": [
    "# b)\n",
    "import seaborn as sns\n",
    "n = 20\n",
    "sample = norm.rvs(mean, std, size=n)\n",
    "sample_mean = np.mean(sample)\n",
    "sample_std = np.std(sample, ddof=1)\n",
    "\n",
    "sns.histplot(sample)\n",
    "\n",
    "print(\"Mean: \" + str(sample_mean))\n",
    "print(\"Std: \" + str(sample_std))"
   ]
  },
  {
   "cell_type": "code",
   "execution_count": 18,
   "metadata": {
    "colab": {
     "base_uri": "https://localhost:8080/",
     "height": 467
    },
    "executionInfo": {
     "elapsed": 258,
     "status": "ok",
     "timestamp": 1740905226529,
     "user": {
      "displayName": "Nguyên Nguyễn",
      "userId": "09365386186283814691"
     },
     "user_tz": -420
    },
    "id": "dVuesPZACW4D",
    "outputId": "a3108908-c837-4781-89ab-f740301571ad"
   },
   "outputs": [
    {
     "name": "stdout",
     "output_type": "stream",
     "text": [
      "Mean: 500.10220413488554\n",
      "Std: 4.0373356184417775\n"
     ]
    },
    {
     "data": {
      "image/png": "[encoded data removed]",
      "text/plain": [
       "<Figure size 640x480 with 1 Axes>"
      ]
     },
     "metadata": {},
     "output_type": "display_data"
    }
   ],
   "source": [
    "# c)\n",
    "n = 100\n",
    "sample = norm.rvs(mean, std, size=n)\n",
    "sample_mean = np.mean(sample)\n",
    "sample_std = np.std(sample, ddof=1)\n",
    "\n",
    "sns.histplot(sample)\n",
    "\n",
    "print(\"Mean: \" + str(sample_mean))\n",
    "print(\"Std: \" + str(sample_std))"
   ]
  },
  {
   "cell_type": "markdown",
   "metadata": {
    "id": "UHUoanYWChZi"
   },
   "source": [
    "- Với n = 20 thì khối lượng trung bình sẽ lớn hơn, độ lệch chuẩn nhỏ đi.\n",
    "- Với n = 100 thì khối lượng trung bình sẽ nhỏ hơn, độ lệch chuẩn cao hơn."
   ]
  },
  {
   "cell_type": "markdown",
   "metadata": {
    "id": "Q2lAgE-8_TVc"
   },
   "source": [
    "**Bài 04:** Mô phỏng tung một con xúc sắc cân đối đồng chất 5000 lần. Dựa vào giá trị mô phỏng, bạn hãy tìm các giá trị xác suất dưới đây:\n",
    "\n",
    "a. Xác suất để  số chấm xuất hiện là 4\n",
    "\n",
    "b. Xác suất để số chấm xuất hiện lớn hơn hoặc bằng 4\n",
    "\n",
    "c. Giả sử biết số chấm xuất hiện lớn hơn hoặc bằng 4. Hãy tìm xác suất để mặt 6 chấm xuất hiện."
   ]
  },
  {
   "cell_type": "code",
   "execution_count": null,
   "metadata": {
    "colab": {
     "base_uri": "https://localhost:8080/"
    },
    "executionInfo": {
     "elapsed": 13,
     "status": "ok",
     "timestamp": 1740906021895,
     "user": {
      "displayName": "Nguyên Nguyễn",
      "userId": "09365386186283814691"
     },
     "user_tz": -420
    },
    "id": "OWd35MC6_TVc",
    "outputId": "d29e6e00-a1a2-4d77-b2aa-6007121c9358"
   },
   "outputs": [
    {
     "data": {
      "text/plain": [
       "0.1612"
      ]
     },
     "execution_count": 28,
     "metadata": {},
     "output_type": "execute_result"
    }
   ],
   "source": [
    "# a)\n",
    "n = 5_000\n",
    "result = np.random.randint(1, 7, size=n)\n",
    "prob_4_point = np.sum(result == 4) / n\n",
    "prob_4_point"
   ]
  },
  {
   "cell_type": "code",
   "execution_count": 29,
   "metadata": {
    "colab": {
     "base_uri": "https://localhost:8080/"
    },
    "executionInfo": {
     "elapsed": 17,
     "status": "ok",
     "timestamp": 1740906054310,
     "user": {
      "displayName": "Nguyên Nguyễn",
      "userId": "09365386186283814691"
     },
     "user_tz": -420
    },
    "id": "T3qd4l5MDbYq",
    "outputId": "632daeb6-994b-4c02-a2d4-8c66141aa79a"
   },
   "outputs": [
    {
     "data": {
      "text/plain": [
       "0.5014"
      ]
     },
     "execution_count": 29,
     "metadata": {},
     "output_type": "execute_result"
    }
   ],
   "source": [
    "# b)\n",
    "prob_greater_4_point = np.sum(result >= 4) / n\n",
    "prob_greater_4_point"
   ]
  },
  {
   "cell_type": "code",
   "execution_count": 32,
   "metadata": {
    "colab": {
     "base_uri": "https://localhost:8080/"
    },
    "executionInfo": {
     "elapsed": 9,
     "status": "ok",
     "timestamp": 1740906129378,
     "user": {
      "displayName": "Nguyên Nguyễn",
      "userId": "09365386186283814691"
     },
     "user_tz": -420
    },
    "id": "46TbQGePDoyS",
    "outputId": "e4d5f49c-5eb7-4a24-a7a8-e6d0c1598b9b"
   },
   "outputs": [
    {
     "data": {
      "text/plain": [
       "0.3514160351017152"
      ]
     },
     "execution_count": 32,
     "metadata": {},
     "output_type": "execute_result"
    }
   ],
   "source": [
    "# c)\n",
    "prob_6 = (np.sum(result == 6) / n) / prob_greater_4_point\n",
    "prob_6"
   ]
  },
  {
   "cell_type": "markdown",
   "metadata": {
    "id": "HTQLYexZ_TVc"
   },
   "source": [
    "**Bài 05:** Tạo 5000 số ngẫu nhiên có phân phối nhị thức với n=50, p=0.7 Bạn Hãy\n",
    "\n",
    "a. Tìm các giá trị thống kê: min, max, Q1, Q2, Q3\n",
    "\n",
    "b. Vẽ đồ thị boxplot\n",
    "\n",
    "c. Vẽ các đồ thị: tần số, tần suất"
   ]
  },
  {
   "cell_type": "code",
   "execution_count": null,
   "metadata": {
    "colab": {
     "base_uri": "https://localhost:8080/"
    },
    "executionInfo": {
     "elapsed": 11,
     "status": "ok",
     "timestamp": 1740906244020,
     "user": {
      "displayName": "Nguyên Nguyễn",
      "userId": "09365386186283814691"
     },
     "user_tz": -420
    },
    "id": "uixPWDm3_TVc",
    "outputId": "9377f615-12be-40bf-f1b4-8625b856b267"
   },
   "outputs": [
    {
     "name": "stdout",
     "output_type": "stream",
     "text": [
      "Min: 23\n",
      "Max: 46\n",
      "Q1: 33.0\n",
      "Q2: 35.0\n",
      "Q3: 37.0\n"
     ]
    }
   ],
   "source": [
    "nums = binom.rvs(50, 0.7, size=5000)\n",
    "# a)\n",
    "print(f'Min: {nums.min()}')\n",
    "print(f'Max: {nums.max()}')\n",
    "print(f\"Q1: {np.quantile(nums, 0.25)}\")\n",
    "print(f\"Q2: {np.quantile(nums, 0.5)}\")\n",
    "print(f\"Q3: {np.quantile(nums, 0.75)}\")"
   ]
  },
  {
   "cell_type": "markdown",
   "metadata": {
    "id": "Q4tMc2RZ_TVc"
   },
   "source": [
    "**Bài 6**\n",
    "\n",
    "Giả sử X là biến ngẫu nhiên rời rạc\n",
    "\n",
    "a. Hãy cho biết ý nghĩa câu lệnh sau: `binom.pmf(4, 10, 0.6)`\n",
    "\n",
    "b. Giả sử X có phân phối nhị thức `X ~ B(10, 0.6)`. Hãy tính các giá trị sau:  \n",
    "$P(X \\leq 5), P(X \\le 5), P(X \\ge 4), P(X = 5) $\n",
    "\n",
    "c. Hãy cho biết ý nghĩa câu lệnh sau: `poisson.pmf(4, 3)`\n",
    "\n",
    "d. Giả sử X có phân phối Poisson `X ~ P(3)`. Hãy tính các giá trị sau:  \n",
    "$P(X \\leq 5), P(X \\le 5), P(X \\ge 4), P(X = 5) $"
   ]
  },
  {
   "cell_type": "code",
   "execution_count": 47,
   "metadata": {
    "colab": {
     "base_uri": "https://localhost:8080/"
    },
    "executionInfo": {
     "elapsed": 27,
     "status": "ok",
     "timestamp": 1740907176677,
     "user": {
      "displayName": "Nguyên Nguyễn",
      "userId": "09365386186283814691"
     },
     "user_tz": -420
    },
    "id": "59Urob_O_TVc",
    "outputId": "bde54851-2d7b-4b1b-a698-df68cbe45852"
   },
   "outputs": [
    {
     "name": "stdout",
     "output_type": "stream",
     "text": [
      "P(X<=5): 0.3668967424000001\n",
      "P(X>=4): 0.9452381183999999\n",
      "P(X=5): 0.20065812479999992\n",
      "P(X<=5): 0.9160820579686966\n",
      "P(X>=4): 0.35276811121776874\n",
      "P(X=5): 0.10081881344492458\n"
     ]
    }
   ],
   "source": [
    "# a) Hãy cho biết ý nghĩa câu lệnh sau: binom.pmf(4, 10, 0.6)\n",
    "# binom.pmf(4, 10, 0.6)\n",
    "# Tính giá trị hàm mật độ xác suất (Probability Mass Function - PMF) của phân phối nhị thức\n",
    "# Hàm này tính xác suất để có 4 thành công trong 10 lần thử khi xác suất thành công trong mỗi lần thử là 0.6\n",
    "\n",
    "# b) Giả sử X có phân phối nhị thức X ~ B(10, 0.6). Hãy tính các giá trị sau:\n",
    "# P(X≤5),P(X≥4),P(X=5)\n",
    "# X ~ B(10, 0.6). 10 lần thử và tỷ lệ thành công 0.6\n",
    "\n",
    "# P(X<=5)\n",
    "prob_less_than_5 = binom.cdf(5, 10, 0.6)\n",
    "print(f\"P(X<=5): {prob_less_than_5}\")\n",
    "# P(X>=4)\n",
    "prob_greater_than_4 = 1 - binom.cdf(3, 10, 0.6)\n",
    "print(f\"P(X>=4): {prob_greater_than_4}\")\n",
    "# P(X=5)\n",
    "prob_equal_5 = binom.pmf(5, 10, 0.6)\n",
    "print(f\"P(X=5): {prob_equal_5}\")\n",
    "\n",
    "# c. Hãy cho biết ý nghĩa câu lệnh sau: poisson.pmf(4, 3)\n",
    "# tính xác suất của phân phối Poisson để có 4 sự kiện xảy ra trong một khoảng thời gian hoặc không gian nhất định, với tần suất trung bình là 3 sự kiện.\n",
    "\n",
    "# d) Giả sử X có phân phối Poisson X ~ P(3). Hãy tính các giá trị sau:\n",
    "# P(X≤5),P(X≥4),P(X=5)\n",
    "\n",
    "# P(X≤5)\n",
    "prob_less_than_5 = poisson.cdf(5, 3)\n",
    "print(f\"P(X<=5): {prob_less_than_5}\")\n",
    "# P(X≥4)\n",
    "prob_greater_than_4 = 1 - poisson.cdf(3, 3)\n",
    "print(f\"P(X>=4): {prob_greater_than_4}\")\n",
    "# P(X=5)\n",
    "prob_equal_5 = poisson.pmf(5, 3)\n",
    "print(f\"P(X=5): {prob_equal_5}\")\n"
   ]
  },
  {
   "cell_type": "markdown",
   "metadata": {
    "id": "PhfWrl3t_TVc"
   },
   "source": [
    "**Bài 7**\n",
    "\n",
    "a. Cho biết ý nghĩa của các câu lệnh sau:\n",
    "\n",
    "- `norm.cdf(2)`\n",
    "\n",
    "- `norm.cdf(2, 1, 1)`\n",
    "\n",
    "- `norm.cdf(2, 1, 2)`\n",
    "\n",
    "b. Cho biết kết quả của câu lệnh sau: `norm.ppf(norm.cdf(2))`\n",
    "\n",
    "c. Tính các giá trị sau và vẽ hình minh họa cho các giá trị tính được:\n",
    "\n",
    "- `norm.ppf(0.975)`\n",
    "\n",
    "- `norm.ppf(0.975, 1, 1)`\n",
    "\n",
    "- `norm.ppf(0.975, 1, 2)`\n",
    "\n",
    "d. Giả sử biến ngẫu nhiên X có phân phối chuẩn với kỳ vọng là 24 và phương sai là 16. Hãy tính các giá trị sau:\n",
    "\n",
    "- $P(X \\leq 20)$\n",
    "- $P(X \\ge 29.5)$\n",
    "- $P(X = 23.8)$"
   ]
  },
  {
   "cell_type": "code",
   "execution_count": null,
   "metadata": {
    "id": "Vlq0Vg1C_TVd"
   },
   "outputs": [],
   "source": [
    "# a) Cho biết ý nghĩa của các câu lệnh sau:\n",
    "\n",
    "# norm.cdf(2) -> Câu lệnh này tính xác suất mà một giá trị ngẫu nhiên có phân phối chuẩn (với trung bình là 0 và độ lệch chuẩn là 1) có giá trị nhỏ hơn hoặc bằng 2.\n",
    "\n",
    "# norm.cdf(2, 1, 1) -> Câu lệnh này tính xác suất mà một giá trị ngẫu nhiên có phân phối chuẩn với trung bình = 1 và độ lệch chuẩn = 1 có giá trị nhỏ hơn hoặc bằng 2.\n",
    "\n",
    "# norm.cdf(2, 1, 2) -> Câu lệnh này tính xác suất mà một giá trị ngẫu nhiên có phân phối chuẩn với trung bình = 1 và độ lệch chuẩn = 2 có giá trị nhỏ hơn hoặc bằng 2.\n"
   ]
  },
  {
   "cell_type": "code",
   "execution_count": 48,
   "metadata": {
    "colab": {
     "base_uri": "https://localhost:8080/"
    },
    "executionInfo": {
     "elapsed": 8,
     "status": "ok",
     "timestamp": 1740907447663,
     "user": {
      "displayName": "Nguyên Nguyễn",
      "userId": "09365386186283814691"
     },
     "user_tz": -420
    },
    "id": "I0OIvPKZKwdr",
    "outputId": "aefc89c1-248c-4437-adc6-0abc061bd59a"
   },
   "outputs": [
    {
     "data": {
      "text/plain": [
       "2.0000000000000004"
      ]
     },
     "execution_count": 48,
     "metadata": {},
     "output_type": "execute_result"
    }
   ],
   "source": [
    "# b. Cho biết kết quả của câu lệnh sau: norm.ppf(norm.cdf(2))\n",
    "norm.ppf(norm.cdf(2))\n",
    "\n",
    "# -> 2.0000000000000004"
   ]
  },
  {
   "cell_type": "code",
   "execution_count": 56,
   "metadata": {
    "colab": {
     "base_uri": "https://localhost:8080/",
     "height": 572
    },
    "executionInfo": {
     "elapsed": 423,
     "status": "ok",
     "timestamp": 1740908153288,
     "user": {
      "displayName": "Nguyên Nguyễn",
      "userId": "09365386186283814691"
     },
     "user_tz": -420
    },
    "id": "NAWa92m-K8eT",
    "outputId": "55b6a6f9-cd4a-402d-e1e4-9a4ab7db4546"
   },
   "outputs": [
    {
     "data": {
      "image/png": "[encoded data removed]",
      "text/plain": [
       "<Figure size 1000x600 with 1 Axes>"
      ]
     },
     "metadata": {},
     "output_type": "display_data"
    }
   ],
   "source": [
    "# c. Tính các giá trị sau và vẽ hình minh họa cho các giá trị tính được:\n",
    "\n",
    "# norm.ppf(0.975) # -> 1.959963984540054\n",
    "\n",
    "# norm.ppf(0.975, 1, 1) # -> 2.959963984540054\n",
    "\n",
    "# norm.ppf(0.975, 1, 2) # -> 4.919927969080108\n",
    "\n",
    "\n",
    "percentile_1 = norm.ppf(0.975)  # N(0,1)\n",
    "percentile_2 = norm.ppf(0.975, 1, 1)  # N(1,1)\n",
    "percentile_3 = norm.ppf(0.975, 1, 2)  # N(1,2)\n",
    "\n",
    "x = np.linspace(-5, 5, 1000)\n",
    "\n",
    "y1 = norm.pdf(x, 0, 1)  # N(0,1)\n",
    "y2 = norm.pdf(x, 1, 1)  # N(1,1)\n",
    "y3 = norm.pdf(x, 1, 2)  # N(1,2)\n",
    "\n",
    "import matplotlib.pyplot as plt\n",
    "\n",
    "plt.figure(figsize=(10, 6))\n",
    "\n",
    "plt.plot(x, y1, label=\"N(0, 1)\", color=\"blue\")\n",
    "plt.plot(x, y2, label=\"N(1, 1)\", color=\"green\")\n",
    "plt.plot(x, y3, label=\"N(1, 2)\", color=\"red\")\n",
    "\n",
    "plt.axvline(percentile_1, color=\"blue\", linestyle=\"--\", label=f\"PPF(0.975) N(0,1): {percentile_1:.4f}\")\n",
    "plt.axvline(percentile_2, color=\"green\", linestyle=\"--\", label=f\"PPF(0.975) N(1,1): {percentile_2:.4f}\")\n",
    "plt.axvline(percentile_3, color=\"red\", linestyle=\"--\", label=f\"PPF(0.975) N(1,2): {percentile_3:.4f}\")\n",
    "\n",
    "plt.title(\"Minh họa phân phối chuẩn và phân vị thứ 97.5%\", fontsize=14)\n",
    "plt.xlabel(\"Giá trị\", fontsize=12)\n",
    "plt.ylabel(\"Mật độ xác suất\", fontsize=12)\n",
    "plt.legend()\n",
    "\n",
    "plt.grid(True)\n",
    "plt.show()"
   ]
  },
  {
   "cell_type": "markdown",
   "metadata": {
    "id": "-j0fcRYM_TVd"
   },
   "source": [
    "**Bài 8**\n",
    "\n",
    "Một công ty sản xuất làm ra các chi tiết máy với độ dài các chi tiết có phân phối chuẩn với kỳ vọng là 3000 mm và độ lệch chuẩn là 3 mm. Yêu cầu cho các chi tiết máy này là phải có chiều dài từ 2993 mm đến 3007 mm. Tính tỷ lệ sản phẩm lỗi của công ty"
   ]
  },
  {
   "cell_type": "code",
   "execution_count": 72,
   "metadata": {
    "colab": {
     "base_uri": "https://localhost:8080/"
    },
    "executionInfo": {
     "elapsed": 13,
     "status": "ok",
     "timestamp": 1740909533730,
     "user": {
      "displayName": "Nguyên Nguyễn",
      "userId": "09365386186283814691"
     },
     "user_tz": -420
    },
    "id": "iz652f3t_TVd",
    "outputId": "5bd9c11b-f682-4c73-c2e2-677ee01a2b69"
   },
   "outputs": [
    {
     "name": "stdout",
     "output_type": "stream",
     "text": [
      "Tỷ lệ sản phẩm lỗi: 0.01963065725729065\n"
     ]
    }
   ],
   "source": [
    "range = (2993, 3007)\n",
    "mu = 3000\n",
    "sigma = 3\n",
    "\n",
    "# Tỷ lệ sản phẩm lỗi = P(X<2993) + P(X>3007)\n",
    "sample = norm.rvs(mu, sigma, size=10000)\n",
    "prob = norm.cdf(2993, mu, sigma) + (1 - norm.cdf(3007, mu, sigma))\n",
    "print(f\"Tỷ lệ sản phẩm lỗi: {prob}\")"
   ]
  },
  {
   "cell_type": "markdown",
   "metadata": {
    "id": "8SlhJ47G_TVd"
   },
   "source": [
    "**Bài 9**\n",
    "\n",
    "Giả sử điểm thi TOEIC là một biến ngẫu nhiên có phân phối chuẩn với kỳ vọng là 500, độ lệch chuẩn là 8. Bạn hãy:\n",
    "\n",
    "a. Mô phỏng bằng cách phát sinh ngẫu nhiên điểm thi TOIEC của một nhóm gồm 50 người.\n",
    "\n",
    "b. Tính điểm trung bình và độ lệch chuẩn về điểm của nhóm.\n",
    "\n",
    "c. Tìm miền giá trị, và miền phân vị (IQR) của nhóm\n",
    "\n",
    "d. Cho biết tỷ lệ đạt trên 450 điểm của nhóm.\n",
    "\n",
    "e. Vẽ đồ thị histogram của nhóm và so sánh với đồ thị hàm mật độ của phân phối chuẩn với kỳ vọng là 500 và độ lệch chuẩn là 8.\n",
    "\n",
    "f. Thay vì mô phỏng 50 người, hãy mô phỏng nhóm với 100 người thi. Bạn có nhận xét gì?"
   ]
  },
  {
   "cell_type": "code",
   "execution_count": 87,
   "metadata": {
    "colab": {
     "base_uri": "https://localhost:8080/",
     "height": 1000
    },
    "executionInfo": {
     "elapsed": 299,
     "status": "ok",
     "timestamp": 1740910054939,
     "user": {
      "displayName": "Nguyên Nguyễn",
      "userId": "09365386186283814691"
     },
     "user_tz": -420
    },
    "id": "iWyLciDp_TVd",
    "outputId": "0ef53462-0143-4b53-fa4e-a3208cc839a5"
   },
   "outputs": [
    {
     "name": "stdout",
     "output_type": "stream",
     "text": [
      "MEAN: 500.246919924263\n",
      "STD: 7.349025981751402\n",
      "MIN: 483.35706801334925\n",
      "MAX: 514.6308146452283\n",
      "IQR: 10.60509734985834\n",
      "P(X>450): 0.9999999997947736\n"
     ]
    },
    {
     "data": {
      "image/png": "[encoded data removed]",
      "text/plain": [
       "<Figure size 640x480 with 1 Axes>"
      ]
     },
     "metadata": {},
     "output_type": "display_data"
    },
    {
     "name": "stdout",
     "output_type": "stream",
     "text": [
      "MEAN: 500.40491970985806\n",
      "STD: 7.878385878170656\n",
      "MIN: 482.56192591342926\n",
      "MAX: 518.2879932788592\n",
      "IQR: 10.93156463764467\n",
      "P(X>450): 0.9999999997947736\n"
     ]
    },
    {
     "data": {
      "image/png": "[encoded data removed]",
      "text/plain": [
       "<Figure size 640x480 with 1 Axes>"
      ]
     },
     "metadata": {},
     "output_type": "display_data"
    }
   ],
   "source": [
    "mean = 500\n",
    "std = 8\n",
    "# a. Mô phỏng bằng cách phát sinh ngẫu nhiên điểm thi TOIEC của một nhóm gồm 50 người.\n",
    "sample = norm.rvs(mean, std, size=50)\n",
    "\n",
    "# b. Tính điểm trung bình và độ lệch chuẩn về điểm của nhóm.\n",
    "print(f\"MEAN: {sample.mean()}\")\n",
    "print(f\"STD: {sample.std()}\")\n",
    "\n",
    "# c. Tìm miền giá trị, và miền phân vị (IQR) của nhóm\n",
    "print(f\"MIN: {sample.min()}\")\n",
    "print(f\"MAX: {sample.max()}\")\n",
    "print(f\"IQR: {np.quantile(sample, 0.75) - np.quantile(sample, 0.25)}\")\n",
    "\n",
    "# d. Cho biết tỷ lệ đạt trên 450 điểm của nhóm.\n",
    "print(f\"P(X>450): {1 - norm.cdf(450, mean, std)}\")\n",
    "\n",
    "# e. Vẽ đồ thị histogram của nhóm và so sánh với đồ thị hàm mật độ của phân phối chuẩn với kỳ vọng là 500 và độ lệch chuẩn là 8.\n",
    "plt.hist(sample, bins=20, density=True, alpha=0.6, color='b')\n",
    "plt.show()\n",
    "\n",
    "# f. Thay vì mô phỏng 50 người, hãy mô phỏng nhóm với 100 người thi. Bạn có nhận xét gì?\n",
    "sample = norm.rvs(mean, std, size=100)\n",
    "print(f\"MEAN: {sample.mean()}\")\n",
    "print(f\"STD: {sample.std()}\")\n",
    "print(f\"MIN: {sample.min()}\")\n",
    "print(f\"MAX: {sample.max()}\")\n",
    "print(f\"IQR: {np.quantile(sample, 0.75) - np.quantile(sample, 0.25)}\")\n",
    "print(f\"P(X>450): {1 - norm.cdf(450, mean, std)}\")\n",
    "plt.hist(sample, bins=20, density=True, alpha=0.6, color='b')\n",
    "plt.show()\n",
    "\n",
    "\n",
    "# -> độ lệch chuẩn của P(X=100) lớn hơn P(X=50), còn các chỉ số còn lại gần như tương đương nhau"
   ]
  },
  {
   "cell_type": "markdown",
   "metadata": {
    "id": "Oigpfpok_TVd"
   },
   "source": [
    "**Bài 10**\n",
    "\n",
    "Viết một chương trình để mô phỏng việc tung đồng xu và đánh giá phương sai của giá trị mô phỏng của biến ngẫu nhiên X (tung được mặt `Head`) đối với các số lần tung khác nhau. Giả sử  đồng xu phải cân bằng.\n",
    "\n",
    "Đối với mỗi N từ 10; 40; 90; 160; 250; 490; 640; 810; 1000, hãy ước tính giá trị của X bằng cách mô phỏng số lần tung đó.\n",
    "\n",
    "Bạn nên chạy mỗi mô phỏng 100 lần và sử dụng tập hợp các ước tính để đánh giá phương sai của ước tính x của bạn. Vẽ biểu đồ phương sai này so với N, bạn có nhận xét gì không?"
   ]
  },
  {
   "cell_type": "code",
   "execution_count": 79,
   "metadata": {
    "colab": {
     "base_uri": "https://localhost:8080/",
     "height": 1000
    },
    "executionInfo": {
     "elapsed": 268,
     "status": "ok",
     "timestamp": 1740909804903,
     "user": {
      "displayName": "Nguyên Nguyễn",
      "userId": "09365386186283814691"
     },
     "user_tz": -420
    },
    "id": "EShpvv9o_TVd",
    "outputId": "681c9a49-6f7c-45ad-eb95-a3b076bf7f78"
   },
   "outputs": [
    {
     "name": "stdout",
     "output_type": "stream",
     "text": [
      "N: 10\n",
      "VAR X: 0.20999999999999996\n",
      "MEAN X: 0.3\n",
      "N: 40\n",
      "VAR X: 0.22749999999999998\n",
      "MEAN X: 0.65\n",
      "N: 90\n",
      "VAR X: 0.2420987654320988\n",
      "MEAN X: 0.5888888888888889\n",
      "N: 160\n",
      "VAR X: 0.24964843750000001\n",
      "MEAN X: 0.48125\n",
      "N: 250\n",
      "VAR X: 0.24942400000000003\n",
      "MEAN X: 0.524\n",
      "N: 490\n",
      "VAR X: 0.24985006247396918\n",
      "MEAN X: 0.5122448979591837\n",
      "N: 640\n",
      "VAR X: 0.24952148437500005\n",
      "MEAN X: 0.478125\n",
      "N: 810\n",
      "VAR X: 0.24974241731443378\n",
      "MEAN X: 0.5160493827160494\n",
      "N: 1000\n",
      "VAR X: 0.25\n",
      "MEAN X: 0.5\n"
     ]
    },
    {
     "data": {
      "image/png": "[encoded data removed]",
      "text/plain": [
       "<Figure size 800x600 with 1 Axes>"
      ]
     },
     "metadata": {},
     "output_type": "display_data"
    }
   ],
   "source": [
    "# 1 = head, 0 = tail\n",
    "N_values = [10, 40, 90, 160, 250, 490, 640, 810, 1000]\n",
    "variances = []\n",
    "for n in N_values:\n",
    "  test = np.random.binomial(n=1, p=0.5, size=n)\n",
    "  print(f\"N: {n}\")\n",
    "  print(f\"VAR X: {test.var()}\")\n",
    "  print(f\"MEAN X: {test.mean()}\")\n",
    "  variances.append(test.var())\n",
    "\n",
    "plt.figure(figsize=(8, 6))\n",
    "plt.plot(N_values, variances, marker='o', linestyle='-', color='b')\n",
    "plt.title('Phương sai của ước tính trung bình X so với số lần tung N')\n",
    "plt.xlabel('Số lần tung N')\n",
    "plt.ylabel('Phương sai của ước tính X')\n",
    "plt.grid(True)\n",
    "plt.show()"
   ]
  },
  {
   "cell_type": "markdown",
   "metadata": {
    "id": "QsLddKYK_TVd"
   },
   "source": [
    "---"
   ]
  }
 ],
 "metadata": {
  "colab": {
   "provenance": []
  },
  "kernelspec": {
   "display_name": "Python 3",
   "language": "python",
   "name": "python3"
  },
  "language_info": {
   "codemirror_mode": {
    "name": "ipython",
    "version": 3
   },
   "file_extension": ".py",
   "mimetype": "text/x-python",
   "name": "python",
   "nbconvert_exporter": "python",
   "pygments_lexer": "ipython3",
   "version": "3.12.0"
  }
 },
 "nbformat": 4,
 "nbformat_minor": 0
}
