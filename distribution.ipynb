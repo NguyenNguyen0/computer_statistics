{
 "cells": [
  {
   "cell_type": "markdown",
   "metadata": {},
   "source": [
    "# PHÂN PHỐI XÁC SUẤT"
   ]
  },
  {
   "cell_type": "markdown",
   "metadata": {},
   "source": [
    "## CÁC PHÂN PHỐI"
   ]
  },
  {
   "cell_type": "markdown",
   "metadata": {},
   "source": [
    "Dưới đây là bảng hoàn chỉnh với cột bổ sung về công dụng của từng phân phối:  \n",
    "\n",
    "| STT | Scipy Package | Distribution Name | Tên Phân Phối | Ký hiệu | Công dụng |\n",
    "|----|--------------|------------------|---------------|---------|----------|\n",
    "| 1  | `bernoulli`  | Bernoulli Distribution  | Phân Phối Bernoulli  | B(1, p) | Mô hình hóa các thử nghiệm có hai kết quả (thành công/thất bại). Ứng dụng trong học máy, sinh học, tài chính. |\n",
    "| 2  | `binom`  | Binomial Distribution  | Phân Phối Nhị Thức  | B(n, p) | Dùng để mô tả số lần thành công trong \\( n \\) phép thử Bernoulli. Ứng dụng trong thống kê, kiểm định giả thuyết. |\n",
    "| 3  | `poisson`  | Poisson Distribution  | Phân Phối Poisson  | $P({\\lambda})$ | Mô hình hóa số lần xảy ra sự kiện trong một khoảng thời gian/khu vực nhất định. Ứng dụng trong bảo hiểm, viễn thông. |\n",
    "| 4  | `norm`  | Normal Distribution / Gauss Distribution  | Phân Phối Chuẩn  |  $N({\\mu}, {\\sigma}^2)$  | Phân phối phổ biến trong tự nhiên, dùng trong thống kê, học máy, kinh tế. Được sử dụng trong định lý giới hạn trung tâm. |\n",
    "| 5  | `t`  | Student Distribution  | Phân Phối Student  | T | Được sử dụng khi ước lượng trung bình của một tập dữ liệu nhỏ với phương sai chưa biết. Ứng dụng trong kiểm định giả thuyết. |\n",
    "| 6  | `chi2`  | Chi Square Distribution  | Phân Phối Chi Bình Phương  | ${\\chi}^2$ | Dùng để kiểm định độ phù hợp, độc lập giữa các biến, kiểm tra phương sai. Ứng dụng trong phân tích dữ liệu, thống kê. |\n"
   ]
  },
  {
   "cell_type": "markdown",
   "metadata": {},
   "source": [
    "## HÀM THÔNG DỤNG"
   ]
  },
  {
   "cell_type": "markdown",
   "metadata": {},
   "source": [
    "Function | Function Details | Ý nghĩa\n",
    "-------- | ---------------- | -------\n",
    "rvs |  Random Variates | Tạo mẫu ngẫu nhiên từ phân phối\n",
    "pmf | Probability Mass Function | Hàm độ lớn **f(x)** cho phân phối rời rạc\n",
    "pdf | Probability Density Function | Hàm mật độ **f(x)** cho phân phối liên tục\n",
    "cdf | Cumulative Distribution Function | Hàm phân Phối Tích Lũy **F(x)**\n",
    "ppf | Percent Point Function (Inverse of CDF) | Tìm điểm phân vị\n",
    "sf | Survival Function (SF = 1-CDF) | Hàm Survival\n",
    "isf | Inverse of survival function | Hàm ngược của hàm Survival"
   ]
  }
 ],
 "metadata": {
  "kernelspec": {
   "display_name": "Python 3",
   "language": "python",
   "name": "python3"
  },
  "language_info": {
   "name": "python",
   "version": "3.12.0"
  }
 },
 "nbformat": 4,
 "nbformat_minor": 2
}
