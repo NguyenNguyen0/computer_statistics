{
 "cells": [
  {
   "cell_type": "markdown",
   "metadata": {},
   "source": [
    "# Kiểm tra Giữa Kỳ TKMT - Đề 2"
   ]
  },
  {
   "cell_type": "markdown",
   "metadata": {},
   "source": [
    "<div class=\"alert alert-block alert-info\" style=\"margin-top: 20px\">\n",
    "    <ul>\n",
    "        <li>Ngày: 2024-10-26 (thứ 7): ...</li>\n",
    "        <li><b>Họ tên: </b>...</li>\n",
    "        <li><b>MSV: </b>...</li>\n",
    "        <li><b>STT: </b>...</li>\n",
    "</div>\n",
    "\n",
    "Định dạng đặt tên: ```<stt>_<hoten>_GK-thu7.ipynb```\n"
   ]
  },
  {
   "cell_type": "markdown",
   "metadata": {},
   "source": [
    "---\n",
    "\n",
    "## BÀI LÀM"
   ]
  },
  {
   "cell_type": "markdown",
   "metadata": {},
   "source": [
    "### Câu 1 (6 điểm)"
   ]
  },
  {
   "cell_type": "markdown",
   "metadata": {},
   "source": [
    "Dataset `ncbirths_10K.csv` khảo sát cân nặng của bé sơ sinh tại Hoa Kỳ, với các thuộc tính:\n",
    "\n",
    "- fage: tuổi cha\n",
    "- mage: tuổi mẹ\n",
    "- mature: phân loại sản phụ\n",
    "- weeks: thời gian mang thai (tuần)\n",
    "- premie: cho biết trẻ sinh non hay đủ tháng\n",
    "- visits: số lần đến bệnh viện thăm khám trong khoảng thời gian thai kỳ (tuần)\n",
    "- gained: trọng lượng tăng lên trong suốt thời gian thai kỳ (đơn vị: pounds)\n",
    "- weight: trọng lượng bé khi m (pounds)\n",
    "- lowbirthweight: xếp loại tình trạng trẻ sơ sinh đủ tháng hay thiếu tháng\n",
    "- gender: giới tính bé\n",
    "- habit: tình trạng hút thuốc của sản phụ (hút thuốc, hay không hút thuốc)\n",
    "- whitemom: sản phụ da trắng hay không?\n",
    "\n",
    "Bạn hãy trả lời câu hỏi nghiên cứu trên. Sau đây là vài gợi ý:\n",
    "\n"
   ]
  },
  {
   "cell_type": "code",
   "execution_count": 35,
   "metadata": {},
   "outputs": [],
   "source": [
    "import pandas as pd\n",
    "import numpy as np\n",
    "import matplotlib.pyplot as plt\n",
    "import seaborn as sns"
   ]
  },
  {
   "cell_type": "code",
   "execution_count": 36,
   "metadata": {},
   "outputs": [
    {
     "data": {
      "text/html": [
       "<div>\n",
       "<style scoped>\n",
       "    .dataframe tbody tr th:only-of-type {\n",
       "        vertical-align: middle;\n",
       "    }\n",
       "\n",
       "    .dataframe tbody tr th {\n",
       "        vertical-align: top;\n",
       "    }\n",
       "\n",
       "    .dataframe thead th {\n",
       "        text-align: right;\n",
       "    }\n",
       "</style>\n",
       "<table border=\"1\" class=\"dataframe\">\n",
       "  <thead>\n",
       "    <tr style=\"text-align: right;\">\n",
       "      <th></th>\n",
       "      <th>fage</th>\n",
       "      <th>mage</th>\n",
       "      <th>mature</th>\n",
       "      <th>weeks</th>\n",
       "      <th>premie</th>\n",
       "      <th>visits</th>\n",
       "      <th>marital</th>\n",
       "      <th>gained</th>\n",
       "      <th>weight</th>\n",
       "      <th>lowbirthweight</th>\n",
       "      <th>gender</th>\n",
       "      <th>habit</th>\n",
       "      <th>whitemom</th>\n",
       "    </tr>\n",
       "  </thead>\n",
       "  <tbody>\n",
       "    <tr>\n",
       "      <th>0</th>\n",
       "      <td>NaN</td>\n",
       "      <td>13</td>\n",
       "      <td>younger mom</td>\n",
       "      <td>39.0</td>\n",
       "      <td>full term</td>\n",
       "      <td>10.0</td>\n",
       "      <td>not married</td>\n",
       "      <td>38.0</td>\n",
       "      <td>7.63</td>\n",
       "      <td>not low</td>\n",
       "      <td>male</td>\n",
       "      <td>nonsmoker</td>\n",
       "      <td>not white</td>\n",
       "    </tr>\n",
       "    <tr>\n",
       "      <th>1</th>\n",
       "      <td>NaN</td>\n",
       "      <td>14</td>\n",
       "      <td>younger mom</td>\n",
       "      <td>42.0</td>\n",
       "      <td>full term</td>\n",
       "      <td>15.0</td>\n",
       "      <td>not married</td>\n",
       "      <td>20.0</td>\n",
       "      <td>7.88</td>\n",
       "      <td>not low</td>\n",
       "      <td>male</td>\n",
       "      <td>nonsmoker</td>\n",
       "      <td>not white</td>\n",
       "    </tr>\n",
       "    <tr>\n",
       "      <th>2</th>\n",
       "      <td>19.0</td>\n",
       "      <td>15</td>\n",
       "      <td>younger mom</td>\n",
       "      <td>37.0</td>\n",
       "      <td>full term</td>\n",
       "      <td>11.0</td>\n",
       "      <td>not married</td>\n",
       "      <td>38.0</td>\n",
       "      <td>6.63</td>\n",
       "      <td>not low</td>\n",
       "      <td>female</td>\n",
       "      <td>nonsmoker</td>\n",
       "      <td>white</td>\n",
       "    </tr>\n",
       "    <tr>\n",
       "      <th>3</th>\n",
       "      <td>21.0</td>\n",
       "      <td>15</td>\n",
       "      <td>younger mom</td>\n",
       "      <td>41.0</td>\n",
       "      <td>full term</td>\n",
       "      <td>6.0</td>\n",
       "      <td>not married</td>\n",
       "      <td>34.0</td>\n",
       "      <td>8.00</td>\n",
       "      <td>not low</td>\n",
       "      <td>male</td>\n",
       "      <td>nonsmoker</td>\n",
       "      <td>white</td>\n",
       "    </tr>\n",
       "    <tr>\n",
       "      <th>4</th>\n",
       "      <td>NaN</td>\n",
       "      <td>15</td>\n",
       "      <td>younger mom</td>\n",
       "      <td>39.0</td>\n",
       "      <td>full term</td>\n",
       "      <td>9.0</td>\n",
       "      <td>not married</td>\n",
       "      <td>27.0</td>\n",
       "      <td>6.38</td>\n",
       "      <td>not low</td>\n",
       "      <td>female</td>\n",
       "      <td>nonsmoker</td>\n",
       "      <td>not white</td>\n",
       "    </tr>\n",
       "  </tbody>\n",
       "</table>\n",
       "</div>"
      ],
      "text/plain": [
       "   fage  mage       mature  weeks     premie  visits      marital  gained  \\\n",
       "0   NaN    13  younger mom   39.0  full term    10.0  not married    38.0   \n",
       "1   NaN    14  younger mom   42.0  full term    15.0  not married    20.0   \n",
       "2  19.0    15  younger mom   37.0  full term    11.0  not married    38.0   \n",
       "3  21.0    15  younger mom   41.0  full term     6.0  not married    34.0   \n",
       "4   NaN    15  younger mom   39.0  full term     9.0  not married    27.0   \n",
       "\n",
       "   weight lowbirthweight  gender      habit   whitemom  \n",
       "0    7.63        not low    male  nonsmoker  not white  \n",
       "1    7.88        not low    male  nonsmoker  not white  \n",
       "2    6.63        not low  female  nonsmoker      white  \n",
       "3    8.00        not low    male  nonsmoker      white  \n",
       "4    6.38        not low  female  nonsmoker  not white  "
      ]
     },
     "execution_count": 36,
     "metadata": {},
     "output_type": "execute_result"
    }
   ],
   "source": [
    "df = pd.read_csv('data/ncbirths_10K.csv')\n",
    "\n",
    "df.head()"
   ]
  },
  {
   "cell_type": "markdown",
   "metadata": {},
   "source": [
    "a. Đọc bộ dữ liệu và cho biết một số thông tin sau:\n",
    "- Kích thước?\n",
    "- Có dữ liệu trống không? Liệt kê các thuộc tính có giá trị trống? (Các giá trị trống nếu có sẽ được ký hiệu là `NA`)\n",
    "\n"
   ]
  },
  {
   "cell_type": "code",
   "execution_count": 37,
   "metadata": {},
   "outputs": [
    {
     "data": {
      "text/plain": [
       "(1000, 13)"
      ]
     },
     "execution_count": 37,
     "metadata": {},
     "output_type": "execute_result"
    }
   ],
   "source": [
    "# YOUR CODE HERE\n",
    "df.shape\n",
    "# (10000, 13)"
   ]
  },
  {
   "cell_type": "code",
   "execution_count": 38,
   "metadata": {},
   "outputs": [
    {
     "data": {
      "text/plain": [
       "fage              171\n",
       "mage                0\n",
       "mature              0\n",
       "weeks               2\n",
       "premie              2\n",
       "visits              9\n",
       "marital             1\n",
       "gained             27\n",
       "weight              0\n",
       "lowbirthweight      0\n",
       "gender              0\n",
       "habit               1\n",
       "whitemom            2\n",
       "dtype: int64"
      ]
     },
     "execution_count": 38,
     "metadata": {},
     "output_type": "execute_result"
    }
   ],
   "source": [
    "df.isna().sum()\n",
    "# Có dữ liệu trống"
   ]
  },
  {
   "cell_type": "markdown",
   "metadata": {},
   "source": [
    "b. Bộ dữ liệu sử dụng đơn vị đo lường của Mỹ: pounds cho cân nặng. Bạn hãy chuyển đổi hai thuộc tính weight (cân nặng của bé) và gained (trọng lượng tăng của sản phụ) sang đơn vị kilogam. Biết rằng 1 pound = 0.45359237 kg\n",
    "\n"
   ]
  },
  {
   "cell_type": "code",
   "execution_count": 39,
   "metadata": {},
   "outputs": [],
   "source": [
    "# YOUR CODE HERE\n",
    "df['weight'] = df['weight'] * 0.45359237\n",
    "df['gained'] = df['gained'] * 0.45359237"
   ]
  },
  {
   "cell_type": "code",
   "execution_count": 40,
   "metadata": {},
   "outputs": [
    {
     "data": {
      "text/html": [
       "<div>\n",
       "<style scoped>\n",
       "    .dataframe tbody tr th:only-of-type {\n",
       "        vertical-align: middle;\n",
       "    }\n",
       "\n",
       "    .dataframe tbody tr th {\n",
       "        vertical-align: top;\n",
       "    }\n",
       "\n",
       "    .dataframe thead th {\n",
       "        text-align: right;\n",
       "    }\n",
       "</style>\n",
       "<table border=\"1\" class=\"dataframe\">\n",
       "  <thead>\n",
       "    <tr style=\"text-align: right;\">\n",
       "      <th></th>\n",
       "      <th>fage</th>\n",
       "      <th>mage</th>\n",
       "      <th>mature</th>\n",
       "      <th>weeks</th>\n",
       "      <th>premie</th>\n",
       "      <th>visits</th>\n",
       "      <th>marital</th>\n",
       "      <th>gained</th>\n",
       "      <th>weight</th>\n",
       "      <th>lowbirthweight</th>\n",
       "      <th>gender</th>\n",
       "      <th>habit</th>\n",
       "      <th>whitemom</th>\n",
       "    </tr>\n",
       "  </thead>\n",
       "  <tbody>\n",
       "    <tr>\n",
       "      <th>0</th>\n",
       "      <td>NaN</td>\n",
       "      <td>13</td>\n",
       "      <td>younger mom</td>\n",
       "      <td>39.0</td>\n",
       "      <td>full term</td>\n",
       "      <td>10.0</td>\n",
       "      <td>not married</td>\n",
       "      <td>17.236510</td>\n",
       "      <td>3.460910</td>\n",
       "      <td>not low</td>\n",
       "      <td>male</td>\n",
       "      <td>nonsmoker</td>\n",
       "      <td>not white</td>\n",
       "    </tr>\n",
       "    <tr>\n",
       "      <th>1</th>\n",
       "      <td>NaN</td>\n",
       "      <td>14</td>\n",
       "      <td>younger mom</td>\n",
       "      <td>42.0</td>\n",
       "      <td>full term</td>\n",
       "      <td>15.0</td>\n",
       "      <td>not married</td>\n",
       "      <td>9.071847</td>\n",
       "      <td>3.574308</td>\n",
       "      <td>not low</td>\n",
       "      <td>male</td>\n",
       "      <td>nonsmoker</td>\n",
       "      <td>not white</td>\n",
       "    </tr>\n",
       "    <tr>\n",
       "      <th>2</th>\n",
       "      <td>19.0</td>\n",
       "      <td>15</td>\n",
       "      <td>younger mom</td>\n",
       "      <td>37.0</td>\n",
       "      <td>full term</td>\n",
       "      <td>11.0</td>\n",
       "      <td>not married</td>\n",
       "      <td>17.236510</td>\n",
       "      <td>3.007317</td>\n",
       "      <td>not low</td>\n",
       "      <td>female</td>\n",
       "      <td>nonsmoker</td>\n",
       "      <td>white</td>\n",
       "    </tr>\n",
       "    <tr>\n",
       "      <th>3</th>\n",
       "      <td>21.0</td>\n",
       "      <td>15</td>\n",
       "      <td>younger mom</td>\n",
       "      <td>41.0</td>\n",
       "      <td>full term</td>\n",
       "      <td>6.0</td>\n",
       "      <td>not married</td>\n",
       "      <td>15.422141</td>\n",
       "      <td>3.628739</td>\n",
       "      <td>not low</td>\n",
       "      <td>male</td>\n",
       "      <td>nonsmoker</td>\n",
       "      <td>white</td>\n",
       "    </tr>\n",
       "    <tr>\n",
       "      <th>4</th>\n",
       "      <td>NaN</td>\n",
       "      <td>15</td>\n",
       "      <td>younger mom</td>\n",
       "      <td>39.0</td>\n",
       "      <td>full term</td>\n",
       "      <td>9.0</td>\n",
       "      <td>not married</td>\n",
       "      <td>12.246994</td>\n",
       "      <td>2.893919</td>\n",
       "      <td>not low</td>\n",
       "      <td>female</td>\n",
       "      <td>nonsmoker</td>\n",
       "      <td>not white</td>\n",
       "    </tr>\n",
       "  </tbody>\n",
       "</table>\n",
       "</div>"
      ],
      "text/plain": [
       "   fage  mage       mature  weeks     premie  visits      marital     gained  \\\n",
       "0   NaN    13  younger mom   39.0  full term    10.0  not married  17.236510   \n",
       "1   NaN    14  younger mom   42.0  full term    15.0  not married   9.071847   \n",
       "2  19.0    15  younger mom   37.0  full term    11.0  not married  17.236510   \n",
       "3  21.0    15  younger mom   41.0  full term     6.0  not married  15.422141   \n",
       "4   NaN    15  younger mom   39.0  full term     9.0  not married  12.246994   \n",
       "\n",
       "     weight lowbirthweight  gender      habit   whitemom  \n",
       "0  3.460910        not low    male  nonsmoker  not white  \n",
       "1  3.574308        not low    male  nonsmoker  not white  \n",
       "2  3.007317        not low  female  nonsmoker      white  \n",
       "3  3.628739        not low    male  nonsmoker      white  \n",
       "4  2.893919        not low  female  nonsmoker  not white  "
      ]
     },
     "execution_count": 40,
     "metadata": {},
     "output_type": "execute_result"
    }
   ],
   "source": [
    "df.head()"
   ]
  },
  {
   "cell_type": "markdown",
   "metadata": {},
   "source": [
    "c. Dựa vào hai thuộc tính mature (phân loại sản phụ) và mage (tuổi của sản phụ) bạn hãy cho biết theo bộ dữ liệu thì tiêu chí để phân loại sản phụ là:\n",
    "sản phụ trẻ (younger mom) hay sản phụ trưởng thành (mature mom). Viết code minh chứng.\n"
   ]
  },
  {
   "cell_type": "code",
   "execution_count": 41,
   "metadata": {},
   "outputs": [
    {
     "data": {
      "text/plain": [
       "<Figure size 1000x600 with 0 Axes>"
      ]
     },
     "metadata": {},
     "output_type": "display_data"
    },
    {
     "data": {
      "image/png": "[encoded data removed]",
      "text/plain": [
       "<Figure size 640x480 with 1 Axes>"
      ]
     },
     "metadata": {},
     "output_type": "display_data"
    }
   ],
   "source": [
    "plt.figure(figsize=(10, 6))\n",
    "df.boxplot(column='mage', by='mature')\n",
    "plt.title(\"Mother's Age by Mature Status\")\n",
    "plt.suptitle(\"\")\n",
    "plt.ylabel(\"Mother's Age (years)\")\n",
    "plt.xlabel(\"Mature Status\")\n",
    "plt.show()\n"
   ]
  },
  {
   "cell_type": "markdown",
   "metadata": {},
   "source": [
    "- younger mom sẽ có độ tuổi từ 13 - 34\n",
    "- mature mom sẽ có độ tuổi từ 35 - 50"
   ]
  },
  {
   "cell_type": "markdown",
   "metadata": {},
   "source": [
    "d. Vẽ đồ thị histogram so sánh trọng lượng của trẻ sơ sinh giữa `younger mom` và `mature mom` trong bộ dữ liệu.\n",
    "\n"
   ]
  },
  {
   "cell_type": "code",
   "execution_count": 42,
   "metadata": {},
   "outputs": [
    {
     "data": {
      "image/png": "[encoded data removed]",
      "text/plain": [
       "<Figure size 640x480 with 1 Axes>"
      ]
     },
     "metadata": {},
     "output_type": "display_data"
    }
   ],
   "source": [
    "# YOUR CODE HERE\n",
    "sns.histplot(df, x='weight', hue='mature', bins=30, kde=True)\n",
    "plt.title(\"Mother's Weight by Mature Status\")\n",
    "plt.ylabel(\"Mother's Weight (kg)\")\n",
    "plt.xlabel(\"Mature Status\")\n",
    "plt.show()"
   ]
  },
  {
   "cell_type": "markdown",
   "metadata": {},
   "source": [
    "e Vẽ đồ thị boxplot so sánh ảnh hưởng của thói quen hút thuốc của mẹ đến cân nặng của trẻ sơ sinh. Dựa trên bộ dữ liệu theo bạn việc hút thuốc của thai phụ có ảnh\n",
    "hưởng đến cân nặng của trẻ sơ sinh hay không?\n",
    "\n"
   ]
  },
  {
   "cell_type": "code",
   "execution_count": 43,
   "metadata": {},
   "outputs": [
    {
     "data": {
      "image/png": "[encoded data removed]",
      "text/plain": [
       "<Figure size 640x480 with 1 Axes>"
      ]
     },
     "metadata": {},
     "output_type": "display_data"
    }
   ],
   "source": [
    "# YOUR CODE HERE\n",
    "df['habit'].value_counts()\n",
    "sns.boxplot(df, x='habit', y='weight')\n",
    "plt.show()"
   ]
  },
  {
   "cell_type": "markdown",
   "metadata": {},
   "source": [
    "f. Vẽ hai pie-chart so sánh tỉ lệ kết hôn của sản phụ theo màu da"
   ]
  },
  {
   "cell_type": "code",
   "execution_count": 44,
   "metadata": {},
   "outputs": [
    {
     "name": "stdout",
     "output_type": "stream",
     "text": [
      "77 637\n",
      "94 190\n"
     ]
    },
    {
     "data": {
      "image/png": "[encoded data removed]",
      "text/plain": [
       "<Figure size 640x480 with 2 Axes>"
      ]
     },
     "metadata": {},
     "output_type": "display_data"
    }
   ],
   "source": [
    "# YOUR CODE HERE\n",
    "# white\n",
    "white_not_mariage = df[df['whitemom'] == 'white']['fage'].isna().sum()\n",
    "white_mariage = len(df[df['whitemom'] == 'white']['fage']) - white_not_mariage\n",
    "\n",
    "print(white_not_mariage, white_mariage)\n",
    "\n",
    "# not-white\n",
    "not_white_not_mariage = df[df['whitemom'] == 'not white']['fage'].isna().sum()\n",
    "not_white_mariage = len(df[df['whitemom'] == 'not white']['fage']) - not_white_not_mariage\n",
    "\n",
    "print(not_white_not_mariage, not_white_mariage)\n",
    "\n",
    "# plot\n",
    "\n",
    "plt.subplot(1, 2, 1)\n",
    "plt.pie([white_mariage, white_not_mariage], labels=['mariage', 'not mariage'], autopct='%1.1f%%')\n",
    "plt.title('white mom mariage rate')\n",
    "plt.subplot(1, 2, 2)\n",
    "plt.pie([not_white_mariage, not_white_not_mariage], labels=['mariage', 'not mariage'], autopct='%1.1f%%')\n",
    "plt.title('not white mom mariage rate')\n",
    "plt.show()"
   ]
  },
  {
   "cell_type": "markdown",
   "metadata": {},
   "source": [
    "---\n",
    "### Câu 2 (2 điểm)"
   ]
  },
  {
   "cell_type": "markdown",
   "metadata": {},
   "source": [
    "Dataset `ncbirths_1K.csv` là khảo sát cân nặng của bé sơ sinh tại Hoa Kỳ được rút ra từ dataset `ncbirths_10K.csv`:\n",
    "\n",
    "a. Tính cân nặng trung bình theo kg của các em bé sơ sinh. Biết rằng 1 pound = 0.45359237 kg. Cho biết sai số so với giá trị từ dữ liệu gốc `ncbirths_10K.csv` là bao nhiêu? (Gợi ý: sử dụng hàm `sample()`)\n",
    "\n"
   ]
  },
  {
   "cell_type": "code",
   "execution_count": 45,
   "metadata": {},
   "outputs": [
    {
     "data": {
      "text/html": [
       "<div>\n",
       "<style scoped>\n",
       "    .dataframe tbody tr th:only-of-type {\n",
       "        vertical-align: middle;\n",
       "    }\n",
       "\n",
       "    .dataframe tbody tr th {\n",
       "        vertical-align: top;\n",
       "    }\n",
       "\n",
       "    .dataframe thead th {\n",
       "        text-align: right;\n",
       "    }\n",
       "</style>\n",
       "<table border=\"1\" class=\"dataframe\">\n",
       "  <thead>\n",
       "    <tr style=\"text-align: right;\">\n",
       "      <th></th>\n",
       "      <th>fage</th>\n",
       "      <th>mage</th>\n",
       "      <th>mature</th>\n",
       "      <th>weeks</th>\n",
       "      <th>premie</th>\n",
       "      <th>visits</th>\n",
       "      <th>marital</th>\n",
       "      <th>gained</th>\n",
       "      <th>weight</th>\n",
       "      <th>lowbirthweight</th>\n",
       "      <th>gender</th>\n",
       "      <th>habit</th>\n",
       "      <th>whitemom</th>\n",
       "    </tr>\n",
       "  </thead>\n",
       "  <tbody>\n",
       "    <tr>\n",
       "      <th>0</th>\n",
       "      <td>NaN</td>\n",
       "      <td>13</td>\n",
       "      <td>younger mom</td>\n",
       "      <td>39.0</td>\n",
       "      <td>full term</td>\n",
       "      <td>10.0</td>\n",
       "      <td>not married</td>\n",
       "      <td>38.0</td>\n",
       "      <td>7.63</td>\n",
       "      <td>not low</td>\n",
       "      <td>male</td>\n",
       "      <td>nonsmoker</td>\n",
       "      <td>not white</td>\n",
       "    </tr>\n",
       "    <tr>\n",
       "      <th>1</th>\n",
       "      <td>NaN</td>\n",
       "      <td>14</td>\n",
       "      <td>younger mom</td>\n",
       "      <td>42.0</td>\n",
       "      <td>full term</td>\n",
       "      <td>15.0</td>\n",
       "      <td>not married</td>\n",
       "      <td>20.0</td>\n",
       "      <td>7.88</td>\n",
       "      <td>not low</td>\n",
       "      <td>male</td>\n",
       "      <td>nonsmoker</td>\n",
       "      <td>not white</td>\n",
       "    </tr>\n",
       "    <tr>\n",
       "      <th>2</th>\n",
       "      <td>19.0</td>\n",
       "      <td>15</td>\n",
       "      <td>younger mom</td>\n",
       "      <td>37.0</td>\n",
       "      <td>full term</td>\n",
       "      <td>11.0</td>\n",
       "      <td>not married</td>\n",
       "      <td>38.0</td>\n",
       "      <td>6.63</td>\n",
       "      <td>not low</td>\n",
       "      <td>female</td>\n",
       "      <td>nonsmoker</td>\n",
       "      <td>white</td>\n",
       "    </tr>\n",
       "    <tr>\n",
       "      <th>3</th>\n",
       "      <td>21.0</td>\n",
       "      <td>15</td>\n",
       "      <td>younger mom</td>\n",
       "      <td>41.0</td>\n",
       "      <td>full term</td>\n",
       "      <td>6.0</td>\n",
       "      <td>not married</td>\n",
       "      <td>34.0</td>\n",
       "      <td>8.00</td>\n",
       "      <td>not low</td>\n",
       "      <td>male</td>\n",
       "      <td>nonsmoker</td>\n",
       "      <td>white</td>\n",
       "    </tr>\n",
       "    <tr>\n",
       "      <th>4</th>\n",
       "      <td>NaN</td>\n",
       "      <td>15</td>\n",
       "      <td>younger mom</td>\n",
       "      <td>39.0</td>\n",
       "      <td>full term</td>\n",
       "      <td>9.0</td>\n",
       "      <td>not married</td>\n",
       "      <td>27.0</td>\n",
       "      <td>6.38</td>\n",
       "      <td>not low</td>\n",
       "      <td>female</td>\n",
       "      <td>nonsmoker</td>\n",
       "      <td>not white</td>\n",
       "    </tr>\n",
       "  </tbody>\n",
       "</table>\n",
       "</div>"
      ],
      "text/plain": [
       "   fage  mage       mature  weeks     premie  visits      marital  gained  \\\n",
       "0   NaN    13  younger mom   39.0  full term    10.0  not married    38.0   \n",
       "1   NaN    14  younger mom   42.0  full term    15.0  not married    20.0   \n",
       "2  19.0    15  younger mom   37.0  full term    11.0  not married    38.0   \n",
       "3  21.0    15  younger mom   41.0  full term     6.0  not married    34.0   \n",
       "4   NaN    15  younger mom   39.0  full term     9.0  not married    27.0   \n",
       "\n",
       "   weight lowbirthweight  gender      habit   whitemom  \n",
       "0    7.63        not low    male  nonsmoker  not white  \n",
       "1    7.88        not low    male  nonsmoker  not white  \n",
       "2    6.63        not low  female  nonsmoker      white  \n",
       "3    8.00        not low    male  nonsmoker      white  \n",
       "4    6.38        not low  female  nonsmoker  not white  "
      ]
     },
     "execution_count": 45,
     "metadata": {},
     "output_type": "execute_result"
    }
   ],
   "source": [
    "# YOUR CODE HERE\n",
    "df1k = pd.read_csv('data/ncbirths_1k.csv')\n",
    "df1k.head()"
   ]
  },
  {
   "cell_type": "code",
   "execution_count": 46,
   "metadata": {},
   "outputs": [],
   "source": [
    "df1k['weight'] = df1k['weight'] * 0.45359237\n",
    "df1k['gained'] = df1k['gained'] * 0.45359237"
   ]
  },
  {
   "cell_type": "code",
   "execution_count": 53,
   "metadata": {},
   "outputs": [
    {
     "name": "stdout",
     "output_type": "stream",
     "text": [
      "3.22095941937\n",
      "3.2209594193700006\n"
     ]
    }
   ],
   "source": [
    "print(df1k['weight'].mean())\n",
    "print(df.sample(1000)['weight'].mean())"
   ]
  },
  {
   "cell_type": "markdown",
   "metadata": {},
   "source": [
    "- Sai số giữa `ncbirths_1K.csv` và `ncbirths_10K.csv` là rất nhỏ (không đáng kể)."
   ]
  },
  {
   "cell_type": "markdown",
   "metadata": {},
   "source": [
    "b. Giả sử thực hiện việc lấy mẫu trên 500 lần (mỗi lần lấy mẫu cỡ 1000 cá thể). Vẽ histogram của các trung bình mẫu thu được và histogram các sai số thu được\n"
   ]
  },
  {
   "cell_type": "code",
   "execution_count": 56,
   "metadata": {},
   "outputs": [
    {
     "data": {
      "image/png": "[encoded data removed]",
      "text/plain": [
       "<Figure size 640x480 with 1 Axes>"
      ]
     },
     "metadata": {},
     "output_type": "display_data"
    }
   ],
   "source": [
    "# YOUR CODE HERE\n",
    "df1k_weight_mean = df1k['weight'].mean()\n",
    "erorrs = [abs(df1k_weight_mean - df.sample(1000)['weight'].mean()) for _ in range(1000)]\n",
    "\n",
    "plt.hist(erorrs, bins=30)\n",
    "plt.show()"
   ]
  },
  {
   "cell_type": "markdown",
   "metadata": {},
   "source": [
    "---\n",
    "\n",
    "### Câu 3 (2 điểm)"
   ]
  },
  {
   "cell_type": "code",
   "execution_count": null,
   "metadata": {},
   "outputs": [],
   "source": [
    "from scipy.stats import norm"
   ]
  },
  {
   "cell_type": "markdown",
   "metadata": {},
   "source": [
    "Nếu biến ngẫu nhiên X có phân phối chuẩn với trung bình là 4 và phương sai là 16. Sử dụng python bạn hãy tính các giá trị sau (làm tròn 3 chữ số thập phân):"
   ]
  },
  {
   "cell_type": "markdown",
   "metadata": {},
   "source": [
    "a. $P(X < 5.7) = $\n",
    "\n"
   ]
  },
  {
   "cell_type": "code",
   "execution_count": 68,
   "metadata": {},
   "outputs": [
    {
     "name": "stdout",
     "output_type": "stream",
     "text": [
      "0.6645816626298305\n"
     ]
    }
   ],
   "source": [
    "# YOUR CODE HERE\n",
    "from math import sqrt\n",
    "\n",
    "mu = 3\n",
    "var = 16\n",
    "sigma = sqrt(var)\n",
    "\n",
    "norm_dist = norm(4, sigma)\n",
    "\n",
    "print(norm_dist.cdf(5.7))"
   ]
  },
  {
   "cell_type": "markdown",
   "metadata": {},
   "source": [
    "b. $P(X > 7)  = $\n",
    "\n"
   ]
  },
  {
   "cell_type": "code",
   "execution_count": 63,
   "metadata": {},
   "outputs": [
    {
     "name": "stdout",
     "output_type": "stream",
     "text": [
      "0.22662735237686826\n"
     ]
    }
   ],
   "source": [
    "# YOUR CODE HERE\n",
    "print(1 - norm_dist.cdf(7))"
   ]
  },
  {
   "cell_type": "markdown",
   "metadata": {},
   "source": [
    "c. $P(2.2 < X < 8) = $\n",
    "\n"
   ]
  },
  {
   "cell_type": "code",
   "execution_count": 64,
   "metadata": {},
   "outputs": [
    {
     "name": "stdout",
     "output_type": "stream",
     "text": [
      "0.514989525780623\n"
     ]
    }
   ],
   "source": [
    "# YOUR CODE HERE\n",
    "print(norm_dist.cdf(8) - norm_dist.cdf(2.2))"
   ]
  },
  {
   "cell_type": "markdown",
   "metadata": {},
   "source": [
    "d Tìm gái trị phân vị thứ 88 của X"
   ]
  },
  {
   "cell_type": "code",
   "execution_count": 65,
   "metadata": {},
   "outputs": [
    {
     "name": "stdout",
     "output_type": "stream",
     "text": [
      "8.699947168264362\n"
     ]
    }
   ],
   "source": [
    "# YOUR CODE HERE\n",
    "print(norm_dist.ppf(0.88))"
   ]
  },
  {
   "cell_type": "markdown",
   "metadata": {},
   "source": [
    "---"
   ]
  },
  {
   "cell_type": "markdown",
   "metadata": {},
   "source": [
    "## TỰ ĐÁNH GIÁ (0 - 10): \n",
    "\n",
    "---"
   ]
  }
 ],
 "metadata": {
  "kernelspec": {
   "display_name": "Python 3",
   "language": "python",
   "name": "python3"
  },
  "language_info": {
   "codemirror_mode": {
    "name": "ipython",
    "version": 3
   },
   "file_extension": ".py",
   "mimetype": "text/x-python",
   "name": "python",
   "nbconvert_exporter": "python",
   "pygments_lexer": "ipython3",
   "version": "3.12.0"
  }
 },
 "nbformat": 4,
 "nbformat_minor": 1
}
