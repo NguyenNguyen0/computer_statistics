{
 "cells": [
  {
   "cell_type": "markdown",
   "metadata": {},
   "source": [
    "# Lab08 - Bài tập"
   ]
  },
  {
   "cell_type": "code",
   "execution_count": 5,
   "metadata": {},
   "outputs": [],
   "source": [
    "import numpy as np\n",
    "import matplotlib.pyplot as plt\n",
    "import statsmodels.api as sm\n",
    "import pandas as pd"
   ]
  },
  {
   "cell_type": "markdown",
   "metadata": {},
   "source": [
    "### Bài 1\n",
    "\n",
    "Nghiên cứu mức thu nhập ($X$) và chi tiêu ($Y$) trong một tháng của một công ty. Khảo sát ngẫu nhiên 7 nhân viên, ta thu được bảng số liệu sau:\n",
    "\n",
    "| X            | 130     | 150      | 133      | 170      | 170      | 210      | 230      |\n",
    "| :----------: | :-----: | :------: | :------: | :------: | :------: | :------: | :------: |\n",
    "| **Y**        | **84**  | **120**  | **108**  | **130**  | **130**  | **150**  | **160**  |\n",
    "\n",
    "\n",
    "a. Dựa vào bảng dữ liệu trên cho biết có xây dựng được mô hình hồi quy hay không? Nếu có hãy xây dựng mô hình hồi quy để ước tính chi tiêu dựa theo thu nhập\n",
    "\n",
    "b. Dự đoán mức chi tiêu của nhân viên công ty trên nếu biết thu nhập là 200$"
   ]
  },
  {
   "cell_type": "code",
   "execution_count": 9,
   "metadata": {},
   "outputs": [
    {
     "data": {
      "image/png": "[encoded data removed]",
      "text/plain": [
       "<Figure size 432x288 with 1 Axes>"
      ]
     },
     "metadata": {
      "needs_background": "light"
     },
     "output_type": "display_data"
    },
    {
     "name": "stdout",
     "output_type": "stream",
     "text": [
      "[[1.         0.94705241]\n",
      " [0.94705241 1.        ]]\n"
     ]
    }
   ],
   "source": [
    "x = np.array([130, 150, 133, 170, 170, 210, 230])\n",
    "y = np.array([84, 120, 108, 130, 130, 150, 160])\n",
    "\n",
    "plt.plot(x, y, 'o')\n",
    "plt.xlabel('Thu nhập')\n",
    "plt.ylabel('Chi tiêu')\n",
    "plt.show()\n",
    "\n",
    "print(np.corrcoef(x, y))\n",
    "\n",
    "# Hệ số tương quan là: 0.94705241 cho thấy 2 biến x, y tương quan tuyến tính mạnh."
   ]
  },
  {
   "cell_type": "code",
   "execution_count": 7,
   "metadata": {},
   "outputs": [
    {
     "name": "stdout",
     "output_type": "stream",
     "text": [
      "                            OLS Regression Results                            \n",
      "==============================================================================\n",
      "Dep. Variable:                      y   R-squared:                       0.897\n",
      "Model:                            OLS   Adj. R-squared:                  0.876\n",
      "Method:                 Least Squares   F-statistic:                     43.50\n",
      "Date:                Sun, 06 Apr 2025   Prob (F-statistic):            0.00120\n",
      "Time:                        15:31:13   Log-Likelihood:                -24.099\n",
      "No. Observations:                   7   AIC:                             52.20\n",
      "Df Residuals:                       5   BIC:                             52.09\n",
      "Df Model:                           1                                         \n",
      "Covariance Type:            nonrobust                                         \n",
      "==============================================================================\n",
      "                 coef    std err          t      P>|t|      [0.025      0.975]\n",
      "------------------------------------------------------------------------------\n",
      "Intercept     17.2706     16.829      1.026      0.352     -25.990      60.531\n",
      "x              0.6380      0.097      6.595      0.001       0.389       0.887\n",
      "==============================================================================\n",
      "Omnibus:                          nan   Durbin-Watson:                   1.452\n",
      "Prob(Omnibus):                    nan   Jarque-Bera (JB):                1.671\n",
      "Skew:                          -1.192   Prob(JB):                        0.434\n",
      "Kurtosis:                       3.206   Cond. No.                         865.\n",
      "==============================================================================\n",
      "\n",
      "Notes:\n",
      "[1] Standard Errors assume that the covariance matrix of the errors is correctly specified.\n",
      "Intercept    17.270584\n",
      "x             0.637976\n",
      "dtype: float64\n"
     ]
    },
    {
     "name": "stderr",
     "output_type": "stream",
     "text": [
      "c:\\ProgramData\\Anaconda3\\lib\\site-packages\\statsmodels\\stats\\stattools.py:74: ValueWarning: omni_normtest is not valid with less than 8 observations; 7 samples were given.\n",
      "  warn(\"omni_normtest is not valid with less than 8 observations; %i \"\n"
     ]
    }
   ],
   "source": [
    "# a) Xây dựng mô hình\n",
    "model = sm.formula.ols('y~x', data=pd.DataFrame({'x': x, 'y': y})).fit()\n",
    "\n",
    "print(model.summary())\n",
    "print(model.params)"
   ]
  },
  {
   "cell_type": "code",
   "execution_count": 8,
   "metadata": {},
   "outputs": [
    {
     "name": "stdout",
     "output_type": "stream",
     "text": [
      "Mô hình hồi quy: y = 17.2706 + 0.638x\n"
     ]
    }
   ],
   "source": [
    "print(f\"Mô hình hồi quy: y = {model.params[0].round(4)} + {model.params[1].round(4)}x\")"
   ]
  },
  {
   "cell_type": "code",
   "execution_count": 11,
   "metadata": {},
   "outputs": [
    {
     "name": "stdout",
     "output_type": "stream",
     "text": [
      "Chi tiêu với thu nhập 200$ là: 144.87060000000002\n"
     ]
    }
   ],
   "source": [
    "# b) Dự đoán với thu nhập là 200$ thì chi tiêu sẽ là:\n",
    "print(f\"Chi tiêu với thu nhập 200$ là: {17.2706 + 0.638 * 200}\")"
   ]
  },
  {
   "cell_type": "markdown",
   "metadata": {},
   "source": [
    "### Bài 2\n",
    "\n",
    "Tiến hành nghiên cứu mối quan hệ giữa:\n",
    "\n",
    "- X: giá bán kẻ của thịt gà (nghìn/kg) \n",
    "- Y: lượng thịt gà tiêu thụ (kg/tháng)\n",
    "\n",
    "Dữ liệu thu được gồm 10 tháng như sau:\n",
    "\n",
    "| X            | 35       | 40       | 45       | 40       | 38       | 40       | 45       | 30       | 42       | 38       |\n",
    "| :----------: | :------: | :------: | :------: | :------: | :------: | :------: | :------: | :------: | :------: | :------: |\n",
    "| **Y**        | **2.29** | **2.04** | **0.59** | **2.06** | **2.50** | **2.32** | **1.57** | **3.96** | **1.43** | **2.34** |\n",
    "\n",
    "\n",
    "a. Dựa vào bảng dữ liệu trên cho biết có xây dựng được mô hình hồi quy hay không? Nếu có hãy xây dựng mô hình hồi quy để ước tính lượng tiêu thụ thịt gà theo giá bán.\n",
    "\n",
    "b. Dự đoán lượng tiêu thụ khi giá bán lẻ là 41(kg/tháng)"
   ]
  },
  {
   "cell_type": "code",
   "execution_count": 12,
   "metadata": {},
   "outputs": [
    {
     "data": {
      "image/png": "[encoded data removed]",
      "text/plain": [
       "<Figure size 432x288 with 1 Axes>"
      ]
     },
     "metadata": {
      "needs_background": "light"
     },
     "output_type": "display_data"
    },
    {
     "name": "stdout",
     "output_type": "stream",
     "text": [
      "[[ 1.         -0.91953287]\n",
      " [-0.91953287  1.        ]]\n"
     ]
    }
   ],
   "source": [
    "x = np.array([35, 40, 45, 40, 38, 40, 45, 30, 42, 38])\n",
    "y = np.array([2.29, 2.04, 0.59, 2.06, 2.50, 2.32, 1.57, 3.96, 1.43, 2.34])\n",
    "\n",
    "plt.plot(x, y, 'o')\n",
    "plt.xlabel('Lượng tiêu thụ')\n",
    "plt.ylabel('Giá bán')\n",
    "plt.show()\n",
    "\n",
    "print(np.corrcoef(x, y))\n",
    "\n",
    "# Hệ số tương quan là: -0.91953287 cho thấy 2 biến x, y tương quan tuyến tính mạnh."
   ]
  },
  {
   "cell_type": "code",
   "execution_count": 13,
   "metadata": {},
   "outputs": [
    {
     "name": "stdout",
     "output_type": "stream",
     "text": [
      "                            OLS Regression Results                            \n",
      "==============================================================================\n",
      "Dep. Variable:                      y   R-squared:                       0.846\n",
      "Model:                            OLS   Adj. R-squared:                  0.826\n",
      "Method:                 Least Squares   F-statistic:                     43.79\n",
      "Date:                Sun, 06 Apr 2025   Prob (F-statistic):           0.000166\n",
      "Time:                        15:39:08   Log-Likelihood:                -2.9041\n",
      "No. Observations:                  10   AIC:                             9.808\n",
      "Df Residuals:                       8   BIC:                             10.41\n",
      "Df Model:                           1                                         \n",
      "Covariance Type:            nonrobust                                         \n",
      "==============================================================================\n",
      "                 coef    std err          t      P>|t|      [0.025      0.975]\n",
      "------------------------------------------------------------------------------\n",
      "Intercept      9.0808      1.060      8.570      0.000       6.637      11.524\n",
      "x             -0.1774      0.027     -6.618      0.000      -0.239      -0.116\n",
      "==============================================================================\n",
      "Omnibus:                        0.926   Durbin-Watson:                   1.332\n",
      "Prob(Omnibus):                  0.629   Jarque-Bera (JB):                0.714\n",
      "Skew:                          -0.542   Prob(JB):                        0.700\n",
      "Kurtosis:                       2.264   Cond. No.                         366.\n",
      "==============================================================================\n",
      "\n",
      "Notes:\n",
      "[1] Standard Errors assume that the covariance matrix of the errors is correctly specified.\n",
      "Intercept    9.080840\n",
      "x           -0.177375\n",
      "dtype: float64\n"
     ]
    },
    {
     "name": "stderr",
     "output_type": "stream",
     "text": [
      "c:\\ProgramData\\Anaconda3\\lib\\site-packages\\scipy\\stats\\stats.py:1603: UserWarning: kurtosistest only valid for n>=20 ... continuing anyway, n=10\n",
      "  warnings.warn(\"kurtosistest only valid for n>=20 ... continuing \"\n"
     ]
    }
   ],
   "source": [
    "# a) Xây dựng mô hình\n",
    "model = sm.formula.ols('y~x', data=pd.DataFrame({'x': x, 'y': y})).fit()\n",
    "\n",
    "print(model.summary())\n",
    "print(model.params)"
   ]
  },
  {
   "cell_type": "code",
   "execution_count": 14,
   "metadata": {},
   "outputs": [
    {
     "name": "stdout",
     "output_type": "stream",
     "text": [
      "Mô hình hồi quy: y = 9.0808 + -0.1774x\n"
     ]
    }
   ],
   "source": [
    "print(f\"Mô hình hồi quy: y = {model.params[0].round(4)} + {model.params[1].round(4)}x\")"
   ]
  },
  {
   "cell_type": "code",
   "execution_count": 15,
   "metadata": {},
   "outputs": [
    {
     "name": "stdout",
     "output_type": "stream",
     "text": [
      "Mức tiêu thụ với giá bán là 41 là: 1.8073999999999995\n"
     ]
    }
   ],
   "source": [
    "# b) Dự đoán mức tiêu thụ với giá bán lẻ là 41$:\n",
    "print(f\"Mức tiêu thụ với giá bán là 41 là: {9.0808 + -0.1774 * 41}\")"
   ]
  },
  {
   "cell_type": "markdown",
   "metadata": {},
   "source": [
    "## Bài 3\n",
    "\n",
    "Dụa trên file dữ liệu `Advertising.csv` bạn hãy dự đoán doanh số bán hàng (`sales`) dựa trên số tiền chi cho các nền tảng tiếp thị khác nhau như `TV`, `Radio` và `Newspaper`\n",
    "\n",
    "a. Đọc file dữ liệu cho biết các thông tin cơ bản về dữ liệu: kích thước, dữ liệu có giá trị trống hay không, hiện các giá trị thống kê cơ bản của các thuộc tính.\n",
    "\n",
    "b. Để dự đoán doanh số bằng phương pháp hồi quy tuyến tính đơn giản (Simple Linear Regression) trước tiên cần lựa chọn một trong các thuộc tính còn lại. Theo bạn thuộc tính nào phù hợp để xây dựng mô hình hồi quy. Giải thích và minh họa bằng 2 cách\n",
    "\n",
    "c. Xây dụng phương trình hồi quy, trực quan mô hình (đường thẳng) tìm được. Theo bạn để đánh giá mô hình trên cần dùng đại lượng nào?"
   ]
  },
  {
   "cell_type": "code",
   "execution_count": 18,
   "metadata": {},
   "outputs": [
    {
     "data": {
      "text/html": [
       "<div>\n",
       "<style scoped>\n",
       "    .dataframe tbody tr th:only-of-type {\n",
       "        vertical-align: middle;\n",
       "    }\n",
       "\n",
       "    .dataframe tbody tr th {\n",
       "        vertical-align: top;\n",
       "    }\n",
       "\n",
       "    .dataframe thead th {\n",
       "        text-align: right;\n",
       "    }\n",
       "</style>\n",
       "<table border=\"1\" class=\"dataframe\">\n",
       "  <thead>\n",
       "    <tr style=\"text-align: right;\">\n",
       "      <th></th>\n",
       "      <th>Unnamed: 0</th>\n",
       "      <th>TV</th>\n",
       "      <th>radio</th>\n",
       "      <th>newspaper</th>\n",
       "      <th>sales</th>\n",
       "    </tr>\n",
       "  </thead>\n",
       "  <tbody>\n",
       "    <tr>\n",
       "      <th>0</th>\n",
       "      <td>1</td>\n",
       "      <td>230.1</td>\n",
       "      <td>37.8</td>\n",
       "      <td>69.2</td>\n",
       "      <td>22.1</td>\n",
       "    </tr>\n",
       "    <tr>\n",
       "      <th>1</th>\n",
       "      <td>2</td>\n",
       "      <td>44.5</td>\n",
       "      <td>39.3</td>\n",
       "      <td>45.1</td>\n",
       "      <td>10.4</td>\n",
       "    </tr>\n",
       "    <tr>\n",
       "      <th>2</th>\n",
       "      <td>3</td>\n",
       "      <td>17.2</td>\n",
       "      <td>45.9</td>\n",
       "      <td>69.3</td>\n",
       "      <td>9.3</td>\n",
       "    </tr>\n",
       "    <tr>\n",
       "      <th>3</th>\n",
       "      <td>4</td>\n",
       "      <td>151.5</td>\n",
       "      <td>41.3</td>\n",
       "      <td>58.5</td>\n",
       "      <td>18.5</td>\n",
       "    </tr>\n",
       "    <tr>\n",
       "      <th>4</th>\n",
       "      <td>5</td>\n",
       "      <td>180.8</td>\n",
       "      <td>10.8</td>\n",
       "      <td>58.4</td>\n",
       "      <td>12.9</td>\n",
       "    </tr>\n",
       "  </tbody>\n",
       "</table>\n",
       "</div>"
      ],
      "text/plain": [
       "   Unnamed: 0     TV  radio  newspaper  sales\n",
       "0           1  230.1   37.8       69.2   22.1\n",
       "1           2   44.5   39.3       45.1   10.4\n",
       "2           3   17.2   45.9       69.3    9.3\n",
       "3           4  151.5   41.3       58.5   18.5\n",
       "4           5  180.8   10.8       58.4   12.9"
      ]
     },
     "execution_count": 18,
     "metadata": {},
     "output_type": "execute_result"
    }
   ],
   "source": [
    "# a)\n",
    "df = pd.read_csv('data/Advertising.csv')\n",
    "df.head()"
   ]
  },
  {
   "cell_type": "code",
   "execution_count": 20,
   "metadata": {},
   "outputs": [
    {
     "name": "stdout",
     "output_type": "stream",
     "text": [
      "(200, 5)\n",
      "Unnamed: 0    0\n",
      "TV            0\n",
      "radio         0\n",
      "newspaper     0\n",
      "sales         0\n",
      "dtype: int64\n",
      "       Unnamed: 0          TV       radio   newspaper       sales\n",
      "count  200.000000  200.000000  200.000000  200.000000  200.000000\n",
      "mean   100.500000  147.042500   23.264000   30.554000   14.022500\n",
      "std     57.879185   85.854236   14.846809   21.778621    5.217457\n",
      "min      1.000000    0.700000    0.000000    0.300000    1.600000\n",
      "25%     50.750000   74.375000    9.975000   12.750000   10.375000\n",
      "50%    100.500000  149.750000   22.900000   25.750000   12.900000\n",
      "75%    150.250000  218.825000   36.525000   45.100000   17.400000\n",
      "max    200.000000  296.400000   49.600000  114.000000   27.000000\n"
     ]
    }
   ],
   "source": [
    "print(df.shape)\n",
    "print(df.isnull().sum())\n",
    "print(df.describe())"
   ]
  },
  {
   "cell_type": "markdown",
   "metadata": {},
   "source": [
    "---"
   ]
  },
  {
   "cell_type": "code",
   "execution_count": 28,
   "metadata": {},
   "outputs": [
    {
     "data": {
      "image/png": "[encoded data removed]",
      "text/plain": [
       "<Figure size 432x288 with 1 Axes>"
      ]
     },
     "metadata": {
      "needs_background": "light"
     },
     "output_type": "display_data"
    },
    {
     "name": "stdout",
     "output_type": "stream",
     "text": [
      "TV: [[1.         0.78222442]\n",
      " [0.78222442 1.        ]]\n"
     ]
    },
    {
     "data": {
      "image/png": "[encoded data removed]",
      "text/plain": [
       "<Figure size 432x288 with 1 Axes>"
      ]
     },
     "metadata": {
      "needs_background": "light"
     },
     "output_type": "display_data"
    },
    {
     "name": "stdout",
     "output_type": "stream",
     "text": [
      "radio: [[1.         0.57622257]\n",
      " [0.57622257 1.        ]]\n"
     ]
    },
    {
     "data": {
      "image/png": "[encoded data removed]",
      "text/plain": [
       "<Figure size 432x288 with 1 Axes>"
      ]
     },
     "metadata": {
      "needs_background": "light"
     },
     "output_type": "display_data"
    },
    {
     "name": "stdout",
     "output_type": "stream",
     "text": [
      "newspaper: [[1.         0.22829903]\n",
      " [0.22829903 1.        ]]\n"
     ]
    }
   ],
   "source": [
    "# b)\n",
    "\n",
    "# TV\n",
    "plt.plot(df['TV'], df['sales'], 'o')\n",
    "plt.xlabel('TV')\n",
    "plt.ylabel('Doanh số TV')\n",
    "plt.show()\n",
    "\n",
    "tv_corr = np.corrcoef(df['TV'], df['sales'])\n",
    "print(f\"TV: {tv_corr}\")\n",
    "\n",
    "# Radio\n",
    "plt.plot(df['radio'], df['sales'], 'o')\n",
    "plt.xlabel('radio')\n",
    "plt.ylabel('Doanh số radio')\n",
    "plt.show()\n",
    "\n",
    "radio_corr = np.corrcoef(df['radio'], df['sales'])\n",
    "print(f\"radio: {radio_corr}\")\n",
    "\n",
    "# Newspaper\n",
    "plt.plot(df['newspaper'], df['sales'], 'o')\n",
    "plt.xlabel('newspaper')\n",
    "plt.ylabel('Doanh số newspaper')\n",
    "plt.show()\n",
    "\n",
    "newspaper_corr = np.corrcoef(df['newspaper'], df['sales'])\n",
    "print(f\"newspaper: {newspaper_corr}\")\n",
    "\n",
    "# DO TV có hệ số tương quan cao nhất so với sales nên ta chọn TV để xây dựng mô hình"
   ]
  },
  {
   "cell_type": "code",
   "execution_count": 32,
   "metadata": {},
   "outputs": [
    {
     "name": "stdout",
     "output_type": "stream",
     "text": [
      "                            OLS Regression Results                            \n",
      "==============================================================================\n",
      "Dep. Variable:                      y   R-squared:                       0.612\n",
      "Model:                            OLS   Adj. R-squared:                  0.610\n",
      "Method:                 Least Squares   F-statistic:                     312.1\n",
      "Date:                Sun, 06 Apr 2025   Prob (F-statistic):           1.47e-42\n",
      "Time:                        16:03:04   Log-Likelihood:                -519.05\n",
      "No. Observations:                 200   AIC:                             1042.\n",
      "Df Residuals:                     198   BIC:                             1049.\n",
      "Df Model:                           1                                         \n",
      "Covariance Type:            nonrobust                                         \n",
      "==============================================================================\n",
      "                 coef    std err          t      P>|t|      [0.025      0.975]\n",
      "------------------------------------------------------------------------------\n",
      "Intercept      7.0326      0.458     15.360      0.000       6.130       7.935\n",
      "x              0.0475      0.003     17.668      0.000       0.042       0.053\n",
      "==============================================================================\n",
      "Omnibus:                        0.531   Durbin-Watson:                   1.935\n",
      "Prob(Omnibus):                  0.767   Jarque-Bera (JB):                0.669\n",
      "Skew:                          -0.089   Prob(JB):                        0.716\n",
      "Kurtosis:                       2.779   Cond. No.                         338.\n",
      "==============================================================================\n",
      "\n",
      "Notes:\n",
      "[1] Standard Errors assume that the covariance matrix of the errors is correctly specified.\n",
      "Intercept    7.032594\n",
      "x            0.047537\n",
      "dtype: float64\n",
      "Mô hình hồi quy: y = 7.032594 + 0.047537x\n"
     ]
    },
    {
     "data": {
      "image/png": "[encoded data removed]",
      "text/plain": [
       "<Figure size 432x288 with 1 Axes>"
      ]
     },
     "metadata": {
      "needs_background": "light"
     },
     "output_type": "display_data"
    },
    {
     "name": "stdout",
     "output_type": "stream",
     "text": [
      "TV: [[1.         0.78222442]\n",
      " [0.78222442 1.        ]]\n"
     ]
    }
   ],
   "source": [
    "# c)\n",
    "model = sm.formula.ols('y~x', data=pd.DataFrame({'x': df['TV'], 'y': df['sales']})).fit()\n",
    "print(model.summary())\n",
    "print(model.params)\n",
    "\n",
    "print(\"Mô hình hồi quy: y = 7.032594 + 0.047537x\")\n",
    "\n",
    "plt.plot(df['TV'], df['sales'], 'o')\n",
    "slope, intercept = np.polyfit(df['TV'], df['sales'], 1)\n",
    "plt.plot(df['TV'], slope * df['TV'] + intercept, color='red', label='Đường hồi quy')\n",
    "plt.xlabel('TV')\n",
    "plt.ylabel('Doanh số TV')\n",
    "plt.show()\n",
    "\n",
    "tv_corr = np.corrcoef(df['TV'], df['sales'])\n",
    "print(f\"TV: {tv_corr}\")\n",
    "\n",
    "\n",
    "# xử dụng đại lượng R-squared. Với giá trị là 0.612 => khá cao, giải thích phần lớn sự biến động của dữ liệu"
   ]
  }
 ],
 "metadata": {
  "kernelspec": {
   "display_name": "Python 3 (ipykernel)",
   "language": "python",
   "name": "python3"
  },
  "language_info": {
   "codemirror_mode": {
    "name": "ipython",
    "version": 3
   },
   "file_extension": ".py",
   "mimetype": "text/x-python",
   "name": "python",
   "nbconvert_exporter": "python",
   "pygments_lexer": "ipython3",
   "version": "3.8.5"
  }
 },
 "nbformat": 4,
 "nbformat_minor": 4
}
